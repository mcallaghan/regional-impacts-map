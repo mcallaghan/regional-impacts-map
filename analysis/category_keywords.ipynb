{
 "cells": [
  {
   "cell_type": "code",
   "execution_count": 44,
   "metadata": {},
   "outputs": [],
   "source": [
    "import django, sys, os\n",
    "sys.path.append('/home/max/software/django-tmv/tmv_mcc-apsis/BasicBrowser')\n",
    "os.environ.setdefault(\"DJANGO_SETTINGS_MODULE\", \"BasicBrowser.settings\")\n",
    "django.setup()\n",
    "\n",
    "from sklearn.decomposition import NMF\n",
    "from sklearn.naive_bayes import MultinomialNB\n",
    "from sklearn.linear_model import SGDClassifier\n",
    "from sklearn.neural_network import MLPClassifier\n",
    "\n",
    "from scoping.models import *\n",
    "from sklearn.feature_extraction.text import CountVectorizer, TfidfVectorizer\n",
    "from itertools import product, combinations\n",
    "from utils.text import *\n",
    "from scipy.sparse import find\n",
    "\n",
    "import math\n",
    "import random\n",
    "import pandas as pd\n",
    "import numpy as np\n",
    "import matplotlib.pyplot as plt\n",
    "from sklearn.multiclass import OneVsRestClassifier\n",
    "from sklearn.svm import SVC\n",
    "\n",
    "from MulticoreTSNE import MulticoreTSNE as mTSNE\n",
    "from sklearn.metrics import accuracy_score, precision_score, recall_score\n",
    "from sklearn.metrics import coverage_error, label_ranking_average_precision_score, label_ranking_loss\n",
    "from pycountry_convert import  country_alpha2_to_continent_code, country_alpha3_to_country_alpha2\n",
    "import pickle\n",
    "import scipy.sparse\n",
    "import datetime\n",
    "import scipy.stats as st\n",
    "django.db.connection.close()\n"
   ]
  },
  {
   "cell_type": "code",
   "execution_count": 45,
   "metadata": {},
   "outputs": [
    {
     "name": "stdout",
     "output_type": "stream",
     "text": [
      "379897\n"
     ]
    }
   ],
   "source": [
    "pid = 178\n",
    "qid = 8145\n",
    "qid = 8272\n",
    "q = Query.objects.get(pk=qid)\n",
    "project = Project.objects.get(pk=pid)\n",
    "\n",
    "print(q.doc_set.count())"
   ]
  },
  {
   "cell_type": "markdown",
   "metadata": {},
   "source": [
    "# Economic inequality"
   ]
  },
  {
   "cell_type": "code",
   "execution_count": null,
   "metadata": {},
   "outputs": [],
   "source": [
    "predicted_ids = pd.read_csv('../data/doctables/predicted_relevant_all_ids.csv')\n",
    "pds = predicted_ids[predicted_ids['prediction']>0.1]\n",
    "\n",
    "assigned = set(DocOwnership.objects.filter(query__project=project).values_list('doc__id',flat=True))\n",
    "print(len(assigned))"
   ]
  },
  {
   "cell_type": "code",
   "execution_count": null,
   "metadata": {},
   "outputs": [],
   "source": []
  },
  {
   "cell_type": "code",
   "execution_count": 42,
   "metadata": {},
   "outputs": [
    {
     "name": "stdout",
     "output_type": "stream",
     "text": [
      "2545\n",
      "title__iregex\n",
      "content__iregex\n",
      "892 97\n"
     ]
    }
   ],
   "source": [
    "assigned = set(DocOwnership.objects.filter(query__project=project).values_list('doc__id',flat=True))\n",
    "print(len(assigned))\n",
    "\n",
    "s = \"economic inequality; economic activity; GDP; gender; indigenous people; indigenous knowledge; indigenous communit\"\n",
    "inclusion = s.replace('; ','|')\n",
    "\n",
    "se = \"species\"\n",
    "exclusions = se.replace(', ','|')\n",
    "\n",
    "p = 0.1\n",
    "\n",
    "pds = predicted_ids[predicted_ids['prediction']>p]\n",
    "\n",
    "dids = set([])\n",
    "eids = set([])\n",
    "for f in [\"title__iregex\",\"content__iregex\"]:\n",
    "    print(f)\n",
    "    dids = dids | set(q.doc_set.filter(**{f: inclusion}).values_list('pk',flat=True))\n",
    "    eids = eids | set(q.doc_set.filter(**{f: exclusions}).values_list('pk',flat=True))\n",
    "    \n",
    "doc_ids = dids - eids\n",
    "    \n",
    "docs = Doc.objects.filter(pk__in=doc_ids).exclude(id__in=assigned)\n",
    "\n",
    "#docs = q.doc_set.filter(title__iregex=inclusion).exclude(id__in=assigned).exclude(content__iregex=exclusions)\n",
    "r_docs = Doc.objects.filter(id__in=doc_ids & set(pds['id']))\n",
    "\n",
    "\n",
    "docs = q.doc_set.filter(title__iregex=inclusion).exclude(id__in=assigned)#.exclude(content__iregex=exclusions)\n",
    "r_docs = q.doc_set.filter(title__iregex=inclusion, id__in=pds['id']).exclude(id__in=assigned)\n",
    "\n",
    "print(docs.count(), r_docs.count())"
   ]
  },
  {
   "cell_type": "code",
   "execution_count": 43,
   "metadata": {},
   "outputs": [
    {
     "name": "stdout",
     "output_type": "stream",
     "text": [
      "Gender and occupational perspectives on adaptation to climate extremes in the Afram Plains of Ghana\n",
      "Resilience of the poorest: coping strategies and indigenous knowledge of living with the floods in Northern Namibia\n",
      "Revisiting Jewson and Mason: The Politics of Gender Equality in UK Local Government in a Cold Climate\n",
      "Does sex matter? Gender-specificity and its influence on site-chronologies in the common dioecious shrub Juniperus communis\n",
      "Month of birth and schizophrenia in Taiwan: Effect of gender, family history and age at onset\n"
     ]
    }
   ],
   "source": [
    "for d in Doc.objects.filter(pk__in=random.sample(list(docs.values_list('pk',flat=True)),5)):\n",
    "    print(d.title)"
   ]
  },
  {
   "cell_type": "code",
   "execution_count": 44,
   "metadata": {},
   "outputs": [
    {
     "name": "stdout",
     "output_type": "stream",
     "text": [
      "The persistence of shocks in GDP and the estimation of the potential economic costs of climate change\n",
      "2014 PSA Presidential Address (Un)Changing Institutions: Work, Family, and Gender in the New Economy\n",
      "Gender, Age and Season as Modifiers of the Effects of Diurnal Temperature Range on Emergency Room Admissions for Cause-Specific Cardiovascular Disease among the Elderly in Beijing\n",
      "Hope and Worry: Gendered Emotional Geographies of Climate Change in Three Vulnerable US Communities\n",
      "Urban outdoor thermal perception in hot arid Beer Sheva, Israel: Methodological and gender aspects\n"
     ]
    }
   ],
   "source": [
    "for d in Doc.objects.filter(pk__in=random.sample(list(r_docs.values_list('pk',flat=True)),5)):\n",
    "    print(d.title)"
   ]
  },
  {
   "cell_type": "code",
   "execution_count": 45,
   "metadata": {},
   "outputs": [
    {
     "name": "stdout",
     "output_type": "stream",
     "text": [
      "economic inequality; economic activity; GDP; gender; indigenous people; indigenous knowledge; indigenous communit 2 - prediction>0.1 True\n"
     ]
    }
   ],
   "source": [
    "users = User.objects.filter(username__in=[\"inga.menke@climateanalytics.org\",\"marina.andrijevic@climateanalytics.org\"])\n",
    "tag, created = Tag.objects.get_or_create(query=q,title=s+\" 2 - prediction>0.1\")\n",
    "print(tag, created)\n",
    "for i,d in enumerate(Doc.objects.filter(pk__in=random.sample(list(r_docs.values_list('pk',flat=True)),50))):\n",
    "    u = users[i%2]\n",
    "    d.tag.add(tag)\n",
    "    do, created = DocOwnership.objects.get_or_create(\n",
    "        doc=d,\n",
    "        query=q,\n",
    "        tag=tag,\n",
    "        user=u\n",
    "    ) \n",
    "tag.update_tag()      "
   ]
  },
  {
   "cell_type": "code",
   "execution_count": null,
   "metadata": {},
   "outputs": [],
   "source": []
  },
  {
   "cell_type": "markdown",
   "metadata": {},
   "source": [
    "# Soil moisture\n"
   ]
  },
  {
   "cell_type": "code",
   "execution_count": 42,
   "metadata": {},
   "outputs": [
    {
     "name": "stdout",
     "output_type": "stream",
     "text": [
      "1943\n"
     ]
    }
   ],
   "source": []
  },
  {
   "cell_type": "code",
   "execution_count": 46,
   "metadata": {},
   "outputs": [
    {
     "name": "stdout",
     "output_type": "stream",
     "text": [
      "2595\n",
      "title__iregex\n",
      "content__iregex\n",
      "47954 723\n",
      "###\n",
      " all query docs\n",
      "\n",
      "Weather patterns in eastern Slovakia 1717-1730, based on records from the Breslau meteorological network\n",
      "Spatiotemporal Characteristics of Dry-Wet Abrupt Transition Based on Precipitation in Poyang Lake Basin, China\n",
      "Living with risk of natural disasters\n",
      "EFFECTS OF CLIMATE CHANGE ON THE URBAN TOURIST AND COASTAL AREA OF VINA DEL MAR: SURVEY OF DAMAGE FOR FLOODING BY STORM SURGE AND PERCEPTION OF SECURITY\n",
      "Assessment of the toxic potential of rainwater precipitation: First evidence from a case study in three Greek cities\n",
      "###\n",
      " p > 0.5\n",
      "\n",
      "Impacts of recent climate change on dry-land crop water consumption in the northern agro-pastoral transitional zone of China\n",
      "Climate change has substantially impacted crop growth and development in the northern agro-pastoral transitional zone. Examination of the response of crop water consumption to climate change may provide a guide for adapting local agricultural production and ecological construction to new realities. The water consumption of three local crops (wheat, naked oats, and potatoes) is examined for Wuchuan County in the northern agro-pastoral transitional zone of China using meteorological data from 1960 to 2007 and soil moisture data from 1983 to 2007. The relationships between climate change and the crop water consumption are discussed. The results show that Wuchuan experienced both a warming trend and a reduction of precipitation between 1960 and 2007. The annual mean surface air temperature increased at a rate of 0.04A degrees C yr(-1) and the annual precipitation decreased at a rate of 0.7 mm yr(-1). Both trends are particularly pronounced between 1983 and 2007, with an increase in annual mean temperature of 0.09A degrees C yr(-1) and a decrease in annual mean precipitation of 2.1 mm yr(-1). Crop water consumption decreased between 1983 and 2007 for wheat (1.65 mm yr(-1)), naked oats (2.04 mm yr(-1)), and potatoes (3.85 mm yr(-1)). Potatoes and naked oats consume more water than wheat. Climate change has significantly impacted crop water consumption. Water consumption and rainfall during the growing season are positively correlated, while water consumption and active accumulated temperature are negatively correlated. Compared to precipitation, accumulated temperature has little impact on crop water consumption. Recent climate change has been detrimental for crop production in Wuchuan County. Adaptation to climate change should include efforts to breed drought-resistant crops and to develop drought-resistant cultivation techniques.\n",
      "Response of evapotranspiration and water availability to the changing climate in Northern Eurasia\n",
      "Northern Eurasian ecosystems play an important role in the global climate system. Northern Eurasia (NE) has experienced dramatic climate changes during the last half of the 20th century and to present. To date, how evapotranspiration (ET) and water availability (P-ET, P: precipitation) had changed in response to the climatic change in this region has not been well evaluated. This study uses an improved version of the Terrestrial Ecosystem Model (TEM) that explicitly considers ET from uplands, wetlands, water bodies and snow cover to examine temporal and spatial variations in ET, water availability and river discharge in NE for the period 1948-2009. The average ET over NE increased during the study period at a rate of 0.13 mm year(-1) year(-1). Over this time, water availability augmented in the western part of the region, but decreased in the eastern part. The consideration of snow sublimation substantially improved the ET estimates and highlighted the importance of snow in the hydrometeorology of NE. We also find that the modified TEM estimates of water availability in NE watersheds are in good agreement with corresponding measurements of historical river discharge before 1970. However, a systematic underestimation of river discharge occurs after 1970 indicates that other water sources or dynamics not considered by the model (e.g., melting glaciers, permafrost thawing and fires) may also be important for the hydrology of the region.\n",
      "El Nino-Southern Oscillation, rainfall, temperature and Normalized Difference Vegetation Index fluctuations in the Mara-Serengeti ecosystem\n",
      "Understanding long-term climatic variability is basic to wise management and conservation of biodiversity. We analysed temporal variations in the local rainfall, temperature, Normalized Difference Vegetation Index and the hemispheric El Nino-Southern Oscillation (ENSO), using the Southern Oscillation Index and how they co varied in the Mara-Serengeti ecosystem of Kenya and Tanzania. Local rainfall showed a striking temporal variability and an evident 5-year quasi-periodicity in the ecosystem. Severe droughts were a recurrent/persistent feature of the ecosystem but extreme floods were relatively infrequent. The timings of droughts and floods coincided with strong episodes in the activities of the ENSO phenomenon. Above-average rainfall often accompanied cold ENSO episodes and below-average rainfall warm ENSO events, contrary to past generalizations suggesting that warm ENSO events are only associated with above-average rainfall whereas cold ENSO events with below-average rainfall in equatorial East Africa. Both minimum and maximum temperatures were below-normal during cold ENSO episodes and above-normal during warm ENSO events. Rising temperatures and declining rainfall throughout the 1990s and early 2000s, with unprecedently prolonged and strong ENSO episodes, engendered progressive habitat desiccation and reduction in vegetation production in the ecosystem. This exacerbated the debilitating effects of adverse weather on local plant and animal communities, resulting in high mortalities of ungulates.\n",
      "Rainfall Trends in the Niger-South Basin, Nigeria, 1948-2008\n",
      "Understanding rainfall trend can be a first step in the planning and management of water resources especially at the basin scale. In this study, standard tests are used to examine rainfall trends based on monthly, seasonal and mean annual series at the Niger-South Basin, Nigeria, between 1948 and 2008. Rainfall variability index showed that the decade 2000s was the driest (-2.1), while 1950s was the wettest (+0.8), with the decade 1980s being the driest in the second half of the last century, whereas the year 1983 was the driest throughout the series. Over the entire basin, rainfall variability was generally low, but higher intra-monthly than inter-annually. Annual rainfall was dominated by August, contributing about 15%, while December contributed the least (0.7%). On a seasonal scale, July-August-September (JJA) contributed over 40% of the annual rainfall, while rainfall was lowest during December-January-February (DJF) (4.5%). The entire basin displayed negative trends but only 15% indicated significant changes (alpha < 0.1), while the magnitudes of change varied between -3.75 and -0.25 mm/yr. Similarly, only JJA exhibited insignificant upward trend, while the rest showed negative trends. About eight months of the year showed reducing trends, but only January trend was significant. Annual downward trend was generally observed in the series. The trend during 1948-1977 was negative, but it was positive for the 1978-2008 period. Hence, water resources management planning may require construction of water storage facilities to reduce summer flooding and prevent possible future water scarcity in the basin.\n",
      "Do Surface and Air Temperatures Contain Similar Imprints of Evaporative Conditions?\n",
      "Generally, surface and air temperatures seem closely related but we show that they respond differently to evaporative conditions. We evaluate the temperature increase in response to solar radiation for different evaporative fractions, using observations from the Southern Great Plains. The warming rate of air temperature decreases only by 1.7 x 10(-3)K/(W m(-2)) from dry to moist conditions compared to a stronger reduction by 14 x 10(-3) K/(W m(-2)) for surface temperature. The weaker response of air temperature to evaporative fraction is explained by the larger growth of boundary layer on drier days, which suppresses the warming of air. Estimates based on this explanation reproduce the warming rate of air temperature in observations. Our results show that diurnal variations of surface temperatures contain imprints of evapotranspiration while air temperatures do not. These findings appear important to be considered when using, analyzing, or interpreting temperature data in studies dealing with climate change, hydrology, or land-atmosphere interactions.\n"
     ]
    }
   ],
   "source": [
    "assigned = set(DocOwnership.objects.filter(query__project=project).values_list('doc__id',flat=True))\n",
    "print(len(assigned))\n",
    "\n",
    "s = \"Soil moisture, evapotranspiration, flood*, snow cover, groundwater, water quality\"\n",
    "inclusion = s.replace(', ','|')\n",
    "se = \"runoff, streamflow\"\n",
    "exclusions = se.replace(', ','|')\n",
    "\n",
    "p = 0.5\n",
    "\n",
    "pds = predicted_ids[predicted_ids['prediction']>p]\n",
    "\n",
    "dids = set([])\n",
    "eids = set([])\n",
    "for f in [\"title__iregex\",\"content__iregex\"]:\n",
    "    print(f)\n",
    "    dids = dids | set(q.doc_set.filter(**{f: inclusion}).values_list('pk',flat=True))\n",
    "    eids = eids | set(q.doc_set.filter(**{f: exclusions}).values_list('pk',flat=True))\n",
    "    \n",
    "doc_ids = dids - eids\n",
    "    \n",
    "docs = Doc.objects.filter(pk__in=doc_ids).exclude(id__in=assigned)\n",
    "\n",
    "#docs = q.doc_set.filter(title__iregex=inclusion).exclude(id__in=assigned).exclude(content__iregex=exclusions)\n",
    "r_docs = Doc.objects.filter(id__in=doc_ids & set(pds['id']))\n",
    "\n",
    "print(docs.count(), r_docs.count())\n",
    "\n",
    "print('###\\n all query docs\\n')\n",
    "\n",
    "for d in Doc.objects.filter(pk__in=random.sample(list(docs.values_list('pk',flat=True)),5)):\n",
    "    print(d.title)\n",
    "    \n",
    "print(f'###\\n p > {p}\\n')\n",
    "\n",
    "for d in Doc.objects.filter(pk__in=random.sample(list(r_docs.values_list('pk',flat=True)),5)):\n",
    "    print(d.title)\n",
    "    print(d.content)"
   ]
  },
  {
   "cell_type": "code",
   "execution_count": 47,
   "metadata": {},
   "outputs": [
    {
     "name": "stdout",
     "output_type": "stream",
     "text": [
      "Soil moisture, evapotranspiration, flood*, snow cover, groundwater, water quality 2 - prediction>0.2 True\n"
     ]
    }
   ],
   "source": [
    "users = User.objects.filter(username__in=[\n",
    "    \"quentin.lejeune@climateanalytics.org\",\n",
    "    \"chelsea.jones@climateanalytics.org\",\n",
    "    \"agathe.lucas@climateanalytics.org\",\n",
    "])\n",
    "tag, created = Tag.objects.get_or_create(query=q,title=s+\" 2 - prediction>0.2\")\n",
    "print(tag, created)\n",
    "for i,d in enumerate(Doc.objects.filter(pk__in=random.sample(list(r_docs.values_list('pk',flat=True)),25*3))):\n",
    "    u = users[i%users.count()]\n",
    "    d.tag.add(tag)\n",
    "    do, created = DocOwnership.objects.get_or_create(\n",
    "        doc=d,\n",
    "        query=q,\n",
    "        tag=tag,\n",
    "        user=u\n",
    "    ) \n",
    "tag.update_tag()\n"
   ]
  },
  {
   "cell_type": "markdown",
   "metadata": {},
   "source": [
    "# TES"
   ]
  },
  {
   "cell_type": "code",
   "execution_count": 85,
   "metadata": {},
   "outputs": [
    {
     "name": "stdout",
     "output_type": "stream",
     "text": [
      "[{'relevant': 1, 'n': 21}, {'relevant': 0, 'n': 20}, {'relevant': 2, 'n': 10}, {'relevant': 3, 'n': 9}]\n"
     ]
    },
    {
     "data": {
      "text/plain": [
       "[{'category__name': '53 Mortality and growth', 'n': 12},\n",
       " {'category__name': '59 Wildfires', 'n': 11},\n",
       " {'category__name': '51 Distribution and range shifts (Terrestrial and freshwater)',\n",
       "  'n': 8},\n",
       " {'category__name': '55 Community composition and interaction', 'n': 8},\n",
       " {'category__name': '54 Physiology and metabolism', 'n': 2},\n",
       " {'category__name': '28 River runoff', 'n': 1},\n",
       " {'category__name': '26 Drought frequency and intensity', 'n': 1},\n",
       " {'category__name': '24 Water level (lake, reservoir, groundwater)', 'n': 1}]"
      ]
     },
     "execution_count": 85,
     "metadata": {},
     "output_type": "execute_result"
    }
   ],
   "source": [
    "tag, created = Tag.objects.get_or_create(query=q,title=\"TES keywords predicted category relevant\")\n",
    "tag_dors = tag.docownership_set.values('relevant').annotate(n=Count('pk'))\n",
    "print(list(tag_dors.order_by('-n')))\n",
    "tag_dos = tag.docownership_set.values('doc__id')\n",
    "ducs = DocUserCat.objects.filter(doc__id__in=tag_dos,category__level=4).values('category__name').annotate(n=Count('pk'))\n",
    "list(ducs.order_by('-n'))"
   ]
  },
  {
   "cell_type": "code",
   "execution_count": 84,
   "metadata": {},
   "outputs": [
    {
     "name": "stdout",
     "output_type": "stream",
     "text": [
      "[{'relevant': 1, 'n': 20}, {'relevant': 0, 'n': 20}, {'relevant': 2, 'n': 11}, {'relevant': 3, 'n': 9}]\n"
     ]
    },
    {
     "data": {
      "text/plain": [
       "[{'category__name': '53 Mortality and growth', 'n': 6},\n",
       " {'category__name': '45 Ocean ecosystem productivity', 'n': 4},\n",
       " {'category__name': '55 Community composition and interaction', 'n': 4},\n",
       " {'category__name': '56 Terrestrial carbon cycle', 'n': 3},\n",
       " {'category__name': '54 Physiology and metabolism', 'n': 3},\n",
       " {'category__name': '48 Carbon cycle (marine & coastal)', 'n': 3},\n",
       " {'category__name': '02 Air or land surface temperature changes', 'n': 2},\n",
       " {'category__name': '08 Changes in strong precipitation', 'n': 2},\n",
       " {'category__name': '19 Water quality/chemistry (oceans)', 'n': 2},\n",
       " {'category__name': '22 Water quality/chemistry (freshwater)', 'n': 2},\n",
       " {'category__name': '28 River runoff', 'n': 2},\n",
       " {'category__name': '66 Health', 'n': 2},\n",
       " {'category__name': '46 Changes in kelp forests', 'n': 1},\n",
       " {'category__name': '47 Seagrass', 'n': 1},\n",
       " {'category__name': '36 Species distribution (marine & coastal)', 'n': 1},\n",
       " {'category__name': '25 Evapotranspiration', 'n': 1},\n",
       " {'category__name': '12 Seasonality', 'n': 1},\n",
       " {'category__name': '05 Changes in precipitation', 'n': 1},\n",
       " {'category__name': '03 Extreme temperature', 'n': 1},\n",
       " {'category__name': '58 Pests and diseases', 'n': 1},\n",
       " {'category__name': '69 Crop yields', 'n': 1},\n",
       " {'category__name': '67 Vector-borne diseases', 'n': 1},\n",
       " {'category__name': '42 Species abundance (marine & coastal)', 'n': 1}]"
      ]
     },
     "execution_count": 84,
     "metadata": {},
     "output_type": "execute_result"
    }
   ],
   "source": [
    "tag = Tag.objects.get(query=q,title=\"TES keywords prediction>0.2\")\n",
    "tag_dors = tag.docownership_set.values('relevant').annotate(n=Count('pk'))\n",
    "print(list(tag_dors.order_by('-n')))\n",
    "tag_dos = tag.docownership_set.values('doc__id')\n",
    "ducs = DocUserCat.objects.filter(doc__id__in=tag_dos,category__level=4).values('category__name').annotate(n=Count('pk'))\n",
    "list(ducs.order_by('-n'))"
   ]
  },
  {
   "cell_type": "code",
   "execution_count": 7,
   "metadata": {},
   "outputs": [
    {
     "name": "stdout",
     "output_type": "stream",
     "text": [
      "2973\n",
      "title__iregex\n",
      "content__iregex\n",
      "59278 582 99\n",
      "###\n",
      " all query docs\n",
      "\n",
      "Holocene climate variability, vegetation dynamics and fire regime in the central Pyrenees: the Basa de la Mora sequence (NE Spain)\n",
      "Comparison of \"warm and wet\" and \"cold and icy\" scenarios for early Mars in a 3-D climate model\n",
      "Shift in community structure in an early-successional Mediterranean shrubland driven by long-term experimental warming and drought and natural extreme droughts\n",
      "DEPOSITIONAL-ENVIRONMENTS OF THE HART COAL ZONE (PALEOCENE), WILLOW BUNCH COALFIELD, SOUTHERN SASKATCHEWAN, CANADA FROM PETROGRAPHIC, PALYNOLOGICAL, PALEOBOTANICAL, MINERAL AND TRACE-ELEMENT STUDIES\n",
      "Land-use intensity alters both the source and fate of CO2 within eight sub-tropical estuaries\n",
      "###\n",
      " p > 0.5\n",
      "\n",
      "LONG-TERM POPULATION TRENDS OF COLONIAL WADING BIRDS BREEDING IN DONANA (SW SPAIN) IN RELATION TO ENVIRONMENTAL AND ANTHROPOGENIC FACTORS\n",
      "Humidity-regulated dormancy onset in the Fabaceae: a conceptual model and its ecological implications for the Australian wattle Acacia saligna\n",
      "Ecosystem Processes and Human Influences Regulate Streamflow Response to Climate Change at Long-Term Ecological Research Sites\n",
      "Regional aspects of streamflow droughts in the Andean rivers of Patagonia, Argentina. Links with large-scale climatic oscillations\n",
      "Global Emergence of Anthropogenic Climate Change in Fire Weather Indices\n",
      "###\n",
      " predicted cat\n",
      "Plants, Birds and Butterflies: Short-Term Responses of Species Communities to Climate Warming Vary by Taxon and with Altitude\n",
      "Effect of fire on small mammals: a systematic review\n",
      "Assessment of wildland fire impacts on watershed annual water yield: Analytical framework and case studies in the United States\n",
      "Contrasting impacts of precipitation on Mediterranean birds and butterflies\n",
      "Seasonal variability of forest sensitivity to heat and drought stresses: A synthesis based on carbon fluxes from North American forest ecosystems\n"
     ]
    }
   ],
   "source": [
    "django.db.connection.close()\n",
    "\n",
    "assigned = set(DocOwnership.objects.filter(query__project=project).values_list('doc__id',flat=True))\n",
    "print(len(assigned))\n",
    "\n",
    "s = \"CO2.{,2}concentration, carbon flux, NPP, disturbance, decomposition, fire weather, area burnt, pest outbreak, fitness, biome shift\"\n",
    "s+= \", water.{,2}borne, vector.{,2}borne, heat.{,2}stress, drought.{,2}stress, infestation, insect, fungh, peat, encroachment, drainage\"\n",
    "s+= \", stratification, algae, phytoplankton, pest, biodiversity\"\n",
    "inclusion = s.replace(', ','|')\n",
    "se = \"tree ring, phenolog, flowering, mortality, growth\"\n",
    "exclusions = se.replace(', ','|')\n",
    "\n",
    "p = 0.5\n",
    "\n",
    "pds = predicted_ids[predicted_ids['prediction']>p]\n",
    "c_ids = pd.read_csv(f'../data/latest_predicted_12 - Terrestrial ES')\n",
    "\n",
    "dids = set([])\n",
    "eids = set([])\n",
    "for f in [\"title__iregex\",\"content__iregex\"]:\n",
    "    print(f)\n",
    "    dids = dids | set(q.doc_set.filter(**{f: inclusion}).values_list('pk',flat=True))\n",
    "    eids = eids | set(q.doc_set.filter(**{f: exclusions}).values_list('pk',flat=True))\n",
    "    \n",
    "doc_ids = dids - eids\n",
    "    \n",
    "docs = Doc.objects.filter(pk__in=doc_ids).exclude(id__in=assigned)\n",
    "\n",
    "#docs = q.doc_set.filter(title__iregex=inclusion).exclude(id__in=assigned).exclude(content__iregex=exclusions)\n",
    "r_docs = Doc.objects.filter(id__in=doc_ids & set(pds['id']))\n",
    "rc_docs = Doc.objects.filter(id__in=doc_ids & set(pds['id']) & set(c_ids['id']))\n",
    "\n",
    "print(docs.count(), r_docs.count(), rc_docs.count())\n",
    "\n",
    "print('###\\n all query docs\\n')\n",
    "\n",
    "for d in Doc.objects.filter(pk__in=random.sample(list(docs.values_list('pk',flat=True)),5)):\n",
    "    print(d.title)\n",
    "    \n",
    "print(f'###\\n p > {p}\\n')\n",
    "\n",
    "for d in Doc.objects.filter(pk__in=random.sample(list(r_docs.values_list('pk',flat=True)),5)):\n",
    "    print(d.title)\n",
    "    \n",
    "print(f'###\\n predicted cat')\n",
    "\n",
    "for d in Doc.objects.filter(pk__in=random.sample(list(rc_docs.values_list('pk',flat=True)),5)):\n",
    "    print(d.title)"
   ]
  },
  {
   "cell_type": "code",
   "execution_count": null,
   "metadata": {},
   "outputs": [],
   "source": []
  },
  {
   "cell_type": "code",
   "execution_count": 69,
   "metadata": {},
   "outputs": [
    {
     "name": "stdout",
     "output_type": "stream",
     "text": [
      "CO2.{,2}concentration, carbon flux, NPP, disturbance, decomposition, fire weather, area burnt, pest outbreak, fitness, biome shift, water.{,2}borne, vector.{,2}borne, heat.{,2}stress, drought.{,2}stress, infestation, insect, fungh, peat, encroachment, drainage, stratification, algae, phytoplankton prediction>0.2 True\n"
     ]
    }
   ],
   "source": [
    "users = User.objects.filter(username__in=[\n",
    "    #\"burcu.yesil@climateanalytics.org\",\n",
    "    \"robert.brecha@climateanalytics.org\",\n",
    "    #\"gerrithansen@mailbox.org\"\n",
    "])\n",
    "tag, created = Tag.objects.get_or_create(query=q,title=\"TES keywords prediction>0.2\")\n",
    "print(tag, created)\n",
    "for i,d in enumerate(Doc.objects.filter(pk__in=random.sample(list(r_docs.values_list('pk',flat=True)),5*users.count()))):\n",
    "    u = users[i%users.count()]\n",
    "    d.tag.add(tag)\n",
    "    do, created = DocOwnership.objects.get_or_create(\n",
    "        doc=d,\n",
    "        query=q,\n",
    "        tag=tag,\n",
    "        user=u\n",
    "    ) \n",
    "tag.update_tag()"
   ]
  },
  {
   "cell_type": "code",
   "execution_count": 111,
   "metadata": {},
   "outputs": [
    {
     "name": "stdout",
     "output_type": "stream",
     "text": [
      "TES keywords prediction>0.2 False\n",
      "gerrithansen@mailbox.org\n",
      "20\n",
      "robert.brecha@climateanalytics.org\n",
      "20\n",
      "burcu.yesil@climateanalytics.org\n",
      "20\n"
     ]
    }
   ],
   "source": [
    "users = User.objects.filter(username__in=[\n",
    "    \"burcu.yesil@climateanalytics.org\",\n",
    "    \"robert.brecha@climateanalytics.org\",\n",
    "    \"gerrithansen@mailbox.org\"\n",
    "])\n",
    "tag, created = Tag.objects.get_or_create(query=q,title=\"TES keywords prediction>0.2\")\n",
    "print(tag, created)\n",
    "for u in users:\n",
    "    print(u)\n",
    "    print(tag.docownership_set.filter(user=u).count())"
   ]
  },
  {
   "cell_type": "code",
   "execution_count": 112,
   "metadata": {},
   "outputs": [
    {
     "name": "stdout",
     "output_type": "stream",
     "text": [
      "TES keywords predicted category relevant False\n",
      "27\n",
      "30\n"
     ]
    }
   ],
   "source": [
    "tag, created = Tag.objects.get_or_create(query=q,title=\"TES keywords predicted category relevant 3\")\n",
    "print(tag, created)\n",
    "users = User.objects.filter(username__in=[\n",
    "    \"robert.brecha@climateanalytics.org\",\n",
    "    \"gerrithansen@mailbox.org\"\n",
    "])\n",
    "bu = User.objects.get(username=\"burcu.yesil@climateanalytics.org\")\n",
    "for u in users:\n",
    "    dos = tag.docownership_set.filter(user=u,relevant=0)\n",
    "    print(dos.count())\n",
    "    for do in dos[:10]:\n",
    "        do.user=bu\n",
    "        do.save()"
   ]
  },
  {
   "cell_type": "code",
   "execution_count": 8,
   "metadata": {},
   "outputs": [
    {
     "name": "stdout",
     "output_type": "stream",
     "text": [
      "TES keywords predicted category relevant 3 False\n"
     ]
    }
   ],
   "source": [
    "users = User.objects.filter(username__in=[\n",
    "    \"robert.brecha@climateanalytics.org\",\n",
    "    #\"gerrithansen@mailbox.org\"\n",
    "])\n",
    "tag, created = Tag.objects.get_or_create(query=q,title=\"TES keywords predicted category relevant 3\")\n",
    "print(tag, created)\n",
    "for i,d in enumerate(Doc.objects.filter(pk__in=random.sample(list(rc_docs.values_list('pk',flat=True)),5))):\n",
    "    u = users[i%users.count()]\n",
    "    d.tag.add(tag)\n",
    "    do, created = DocOwnership.objects.get_or_create(\n",
    "        doc=d,\n",
    "        query=q,\n",
    "        tag=tag,\n",
    "        user=u\n",
    "    ) \n",
    "tag.update_tag()"
   ]
  },
  {
   "cell_type": "code",
   "execution_count": 72,
   "metadata": {},
   "outputs": [],
   "source": []
  },
  {
   "cell_type": "markdown",
   "metadata": {},
   "source": [
    "# food, malnutrition, conflict.."
   ]
  },
  {
   "cell_type": "code",
   "execution_count": 53,
   "metadata": {},
   "outputs": [
    {
     "name": "stdout",
     "output_type": "stream",
     "text": [
      "[{'relevant': 2, 'n': 22}, {'relevant': 0, 'n': 11}, {'relevant': 1, 'n': 6}, {'relevant': 3, 'n': 1}]\n"
     ]
    },
    {
     "data": {
      "text/plain": [
       "[{'category__name': '73 Displacement and migration', 'n': 3},\n",
       " {'category__name': '09 Atmospheric/marine circulation or teleconnections',\n",
       "  'n': 1},\n",
       " {'category__name': '10 Wind speed', 'n': 1},\n",
       " {'category__name': '24 Water level (lake, reservoir, groundwater)', 'n': 1},\n",
       " {'category__name': '60 Other (Terrestrial and freshwater)', 'n': 1},\n",
       " {'category__name': '69 Crop yields', 'n': 1},\n",
       " {'category__name': '70 Food prices', 'n': 1},\n",
       " {'category__name': '07 Aridity/dryness', 'n': 1},\n",
       " {'category__name': '80 Livestock management', 'n': 1}]"
      ]
     },
     "execution_count": 53,
     "metadata": {},
     "output_type": "execute_result"
    }
   ],
   "source": [
    "tag = Tag.objects.get(query=q,title=\"Food, conflict, migration - prediction>0.2\")\n",
    "tag_dos = tag.docownership_set.values('doc__id')\n",
    "tag_dors = tag.docownership_set.values('relevant').annotate(n=Count('pk'))\n",
    "print(list(tag_dors.order_by('-n')))\n",
    "ducs = DocUserCat.objects.filter(doc__id__in=tag_dos,category__level=4).values('category__name').annotate(n=Count('pk'))\n",
    "list(ducs.order_by('-n'))"
   ]
  },
  {
   "cell_type": "code",
   "execution_count": 58,
   "metadata": {},
   "outputs": [
    {
     "name": "stdout",
     "output_type": "stream",
     "text": [
      "0.3696876377976783\n"
     ]
    }
   ],
   "source": [
    "print(predicted_ids.loc[predicted_ids['id']==d.id,\"prediction\"].values[0])"
   ]
  },
  {
   "cell_type": "code",
   "execution_count": 48,
   "metadata": {},
   "outputs": [
    {
     "name": "stdout",
     "output_type": "stream",
     "text": [
      "2912\n",
      "Food price|malnutrition|conflict|human displacement|internal displacement|internally displaced|migration\n",
      "species, bird, mammal, fish, ecosystem, passerine, plankton, salmon, plant migration, eels, inlet migration, alligator, conflicting, aphid, reptile, thward migration, stward migration, horizontal migration, vegetation migration, tuna, meridional migration, vertical migration, autumn migration, spring migration, summer migration, winter migration, meridional migration, wildlife migration, lateral migration, animal migration, ward migration, seasonal migration, turtle, breeding, butterfly, elephant, waterfowl, inland migration, (?:migration\\w*\\W+(?:\\w+\\W+){0,5}?SST|SST\\W+(?:\\w+\\W+){0,5}?migration*), (?:migration\\w*\\W+(?:\\w+\\W+){0,5}?marsh\\w*|marsh\\w*\\W+(?:\\w+\\W+){0,5}?migration*), (?:migration\\w*\\W+(?:\\w+\\W+){0,5}?atmospher\\w*|atmospher\\w*\\W+(?:\\w+\\W+){0,5}?migration*)\n",
      "species|bird|mammal|fish|ecosystem|passerine|plankton|salmon|plant migration|eels|inlet migration|alligator|conflicting|aphid|reptile|thward migration|stward migration|horizontal migration|vegetation migration|tuna|meridional migration|vertical migration|autumn migration|spring migration|summer migration|winter migration|meridional migration|wildlife migration|lateral migration|animal migration|ward migration|seasonal migration|turtle|breeding|butterfly|elephant|waterfowl|inland migration|(?:migration\\w*\\W+(?:\\w+\\W+){0,5}?SST|SST\\W+(?:\\w+\\W+){0,5}?migration*)|(?:migration\\w*\\W+(?:\\w+\\W+){0,5}?marsh\\w*|marsh\\w*\\W+(?:\\w+\\W+){0,5}?migration*)|(?:migration\\w*\\W+(?:\\w+\\W+){0,5}?atmospher\\w*|atmospher\\w*\\W+(?:\\w+\\W+){0,5}?migration*)\n",
      "title__iregex\n",
      "content__iregex\n",
      "7867 180\n",
      "###\n",
      " all query docs\n",
      "\n",
      "0.05338278977985979\n",
      "Oil, land and conflict: the decline of Misseriyya pastoralism in Sudan\n",
      "\n",
      "0.028251735278760386\n",
      "Seeing It Coming: A Complexity Approach to Disasters and Humanitarian Crises\n",
      "\n",
      "0.12325062299943243\n",
      "Climate and conflicts: the security risks of global warming\n",
      "\n",
      "0.06890138756575688\n",
      "Towards an understanding of resilience: responding to health systems shocks\n",
      "\n",
      "0.02922642389752961\n",
      "South-to-south exchanges in understanding and addressing natural resource conflicts\n",
      "\n",
      "###\n",
      " p > 0.3\n",
      "\n",
      "0.3791730600218751\n",
      "Toward Mapping Gridded Drought Indices to Evaluate Local Drought in a Rapidly Changing Global Environment\n",
      "Uncertain future climate, recent persistent droughts, and subsequent water conflicts increasingly threaten the sustainability of regional water resources in the United States. Climate change and ongoing water disputes brought about by changes in water availability and timing emphasize the need for decision makers to develop proactive adaptive management strategies to mitigate losses. Developing a drought management system equipped with advanced visualization settings is critical to lay out drought evolvement at local scales, yet an effort has not been made to evaluate how different spatial discretization can represent local drought as opposed to conventional drought monitoring. Gridded drought indices, including the standardized precipitation index (SPI), Palmer drought severity index (PDSI), and Hydrologic drought index (HDI) at high-resolution spatial (12 km by 12 km) scales are demonstrated to provide useful insights to evaluate local drought possibly driven by a rapidly changing global environment. A new method for duration factors in PDSI is also discussed to better represent drought conditions over time and space.\n",
      "\n",
      "0.3120332181604111\n",
      "SENSITIVITY OF PACIFIC-NORTHWEST WATER-RESOURCES TO GLOBAL WARMING\n",
      "The potential effect of increasing atmospheric concentrations of carbon dioxide and other so-called greenhouse gases on the land surface environment is not well understood. Generally, there is some consistency among computer models of global climate that surface temperatures will increase and that, in many areas, precipitation and evaporation also may increase. However, determining the effects of such changes on the distribution and circulation of water at the land surface, and on water management systems, remains problematic. The American River, Washington, a mountainous tributary of the Yakima River, is typical of rivers in the Columbia Basin states of Washington, Oregon, Idaho, and western Montana, as well as southern British Columbia. Using the American River as a case study, this investigation developed computer models to simulate and identify water management conflicts that might arise in this region under a general climate warming of both 2-degrees-C and 4-degrees-C. For warmer climates, it was found that snow accumulation would be substantially reduced, and the river's high flow season would shift from the spring to the winter. Potential evaporation would increase throughout the year (mostly in the summer), but peak actual evaporation would shift to the late spring and early summer, due to reduced summer soil moisture. The effect of the streamflow pattern that would accompany a warmer climate was tested on small and moderate sized hypothetical multi-purpose reservoirs. The results showed that water supply reliability would be significantly degraded by the earlier spring runoff pattern that would accompany a warmer climate, especially for small reservoirs. The result was that hydroelectric revenues might increase due to larger reservoir releases needed during the winter peak demand season. An investigation of alternative operating policies for the reservoir system showed that more efficient reservoir operation alone would not mitigate the degraded reliability of water supply that would accompany a warmer climate.\n",
      "\n",
      "0.6100759154859152\n",
      "Global drought and severe drought-affected populations in 1.5 and 2 degrees C warmer worlds\n",
      "The 2015 Paris Agreement proposed a more ambitious climate change mitigation target on limiting global warming to 1.5 degrees C instead of 2 degrees C above preindustrial levels. Scientific investigations on environmental risks associated with these warming targets are necessary to inform climate policymaking. Based on the Coupled Model Intercomparison Project phase 5 (CMIP5) climate models, we present the first risk-based assessment of changes in global drought and the impact of severe drought on populations from additional 1.5 and 2 degrees C warming conditions. Our results highlight the risk of drought on a global scale and in several hotspot regions such as the Amazon, northeastern Brazil, southern Africa and Central Europe at both 1.5 and 2 degrees C global warming relative to the historical period, showing increases in drought durations from 2.9 to 3.2 months. Correspondingly, more total and urban populations would be exposed to severe droughts globally (+132.5 +/- 216.2 million and +194.5 +/- 276.5 million total population and +350.2 +/- 158.8 million and +410.7 +/- 213.5 million urban populations in 1.5 and 2 degrees C warmer worlds) and regionally (e.g., East Africa, West Africa and South Asia). Less rural populations (-217.7 +/- 79.2 million and -216.2 +/- 82.4 million rural populations in 1.5 and 2 degrees C warmer worlds) would be exposed to severe drought globally under climate warming, population growth and especially the urbanization-induced population migration. By keeping global warming at 1.5 degrees C above the preindustrial levels instead of 2 degrees C, there is a decrease in drought risks (i.e., less drought duration, less drought intensity and severity but relatively more frequent drought) and the affected total, urban and rural populations would decrease globally and in most regions. While challenging for both East Africa and South Asia, the benefits of limiting warming to below 1.5 degrees C in terms of global drought risk and impact reduction are significant.\n",
      "\n",
      "0.3862372761787085\n",
      "Associations between Knowledge of the Causes and Perceived Impacts of Climate Change: A Cross-Sectional Survey of Medical, Public Health and Nursing Students in Universities in China\n",
      "This study aimed to measure the knowledge and perceptions of medical, public health, and nursing students about climate change and its impacts, and to identify associations between the knowledge and perceptions. Data were from a nationwide cross-sectional survey of 1387 students sampled in five different regional universities in China (April-May 2017). The knowledge and perceptions of the participants were collected by self-administered questionnaires. We found that most respondents believed that climate change is generally bad (83%) and bad for human health (88%), while 67% believed that climate change is controllable. The vast majority of respondents acknowledged illness conditions resulting from poor air quality (95%), heat stress (93%), and extreme weather events (91%) as potential impacts of climate change. Nevertheless, only 39% recognized malnutrition as a consequence of food deprivation resulting from climate change. Around 58% of respondents could correctly identify the causes of climate change. The knowledge of the causes of climate change was not associated with the ability to recognize the health consequences of climate change. However, the knowledge of causes of climate change was a significant predictor of increased awareness of the negative impacts of climate change between the medical and nursing students, although this was not the case among their public health counterparts. Poor knowledge about the causes of climate change is evident among students in China. They are able to recognize the direct links between weather events and health, but less likely to understand the consequences involving complicated pathways. Research and training into the underlying mechanisms of health impacts of climate change needs to be strengthened.\n",
      "\n",
      "0.5\n",
      "Temporary migration and climate variation in eastern Africa\n",
      "Africa is likely to experience warming and increased climate variability by the late 21st century. Climate extremes have been linked to adverse economic outcomes. Hence, adaptation is a key component of the United Nations Framework Convention on Climate Change agreements and development assistance. Effective climate adaptation policy requires an understanding of how temperature and rainfall variability affect migration patterns. Yet, how individuals in developing countries manage climate variation is poorly understood, especially in Africa. Combining high-resolution climate data with panel micro-data on migration, labor participation, and demographics, we employ regression analysis to assess temporary migration responses to local temperature and precipitation anomalies in four East African countries. We find that climate impacts are most pronounced in urban areas, with a standard deviation temperature increase and rainfall decrease leading to respective 10 and 12 percent declines in out-migration relative to mean values. Evidence from other labor market outcomes suggests that urban out-migration is not associated with reduced local employment opportunities. Instead, declines in urban out-migration appear to coincide with negative local climate employment impacts. These results challenge the narrative that temporary out-migration serves as a safety valve during climate extremes and that climate change will most strongly affect out-migration rates from rural areas in developing countries. (C) 2019 The Authors. Published by Elsevier Ltd.\n",
      "\n"
     ]
    }
   ],
   "source": [
    "assigned = set(DocOwnership.objects.filter(query__project=project).values_list('doc__id',flat=True))\n",
    "print(len(assigned))\n",
    "\n",
    "s = \"Food price, malnutrition, conflict, human displacement, internal displacement, internally displaced, migration\"\n",
    "inclusion = s.replace(', ','|')\n",
    "print(inclusion)\n",
    "se = \"species, bird, mammal, fish, ecosystem, passerine, plankton, salmon, plant migration, eels, inlet migration, alligator, conflicting, aphid, reptile\"\n",
    "se += \", thward migration, stward migration, horizontal migration, vegetation migration, tuna, meridional migration, vertical migration\"\n",
    "se += \", autumn migration, spring migration, summer migration, winter migration, meridional migration, wildlife migration, lateral migration, animal migration, ward migration, seasonal migration\"\n",
    "se += \", turtle, breeding, butterfly, elephant, waterfowl, inland migration\"\n",
    "se += \", (?:migration\\w*\\W+(?:\\w+\\W+){0,5}?SST|SST\\W+(?:\\w+\\W+){0,5}?migration*)\"\n",
    "se += \", (?:migration\\w*\\W+(?:\\w+\\W+){0,5}?marsh\\w*|marsh\\w*\\W+(?:\\w+\\W+){0,5}?migration*)\"\n",
    "se += \", (?:migration\\w*\\W+(?:\\w+\\W+){0,5}?atmospher\\w*|atmospher\\w*\\W+(?:\\w+\\W+){0,5}?migration*)\"\n",
    "print(se)\n",
    "exclusions = se.replace(', ','|')\n",
    "\n",
    "print(exclusions)\n",
    "\n",
    "p = 0.3\n",
    "\n",
    "pds = predicted_ids[predicted_ids['prediction']>p]\n",
    "\n",
    "dids = set([])\n",
    "eids = set([])\n",
    "for f in [\"title__iregex\",\"content__iregex\"]:\n",
    "    print(f)\n",
    "    dids = dids | set(q.doc_set.filter(**{f: inclusion}).values_list('pk',flat=True))\n",
    "    eids = eids | set(q.doc_set.filter(**{f: exclusions}).values_list('pk',flat=True))\n",
    "    \n",
    "doc_ids = dids - eids\n",
    "    \n",
    "docs = Doc.objects.filter(pk__in=doc_ids).exclude(id__in=assigned)\n",
    "\n",
    "#docs = q.doc_set.filter(title__iregex=inclusion).exclude(id__in=assigned).exclude(content__iregex=exclusions)\n",
    "r_docs = Doc.objects.filter(id__in=doc_ids & set(pds['id']))\n",
    "\n",
    "print(docs.count(), r_docs.count())\n",
    "\n",
    "print('###\\n all query docs\\n')\n",
    "\n",
    "for d in Doc.objects.filter(pk__in=random.sample(list(docs.values_list('pk',flat=True)),5)):\n",
    "    try:\n",
    "        print(predicted_ids.loc[predicted_ids['id']==d.id,\"prediction\"].values[0])\n",
    "    except:\n",
    "        print(predicted_ids.loc[predicted_ids['id']==d.id,\"prediction\"].values)\n",
    "    print(d.title)\n",
    "    print()\n",
    "    \n",
    "print(f'###\\n p > {p}\\n')\n",
    "\n",
    "for d in Doc.objects.filter(pk__in=random.sample(list(r_docs.values_list('pk',flat=True)),5)):\n",
    "    try:\n",
    "        print(predicted_ids.loc[predicted_ids['id']==d.id,\"prediction\"].values[0])\n",
    "    except:\n",
    "        print(predicted_ids.loc[predicted_ids['id']==d.id,\"prediction\"].values)\n",
    "    print(d.title)\n",
    "    print(d.content)\n",
    "    print()\n",
    "    \n"
   ]
  },
  {
   "cell_type": "code",
   "execution_count": null,
   "metadata": {},
   "outputs": [],
   "source": []
  },
  {
   "cell_type": "code",
   "execution_count": null,
   "metadata": {},
   "outputs": [],
   "source": []
  },
  {
   "cell_type": "code",
   "execution_count": 49,
   "metadata": {},
   "outputs": [
    {
     "name": "stdout",
     "output_type": "stream",
     "text": [
      "Food, conflict, migration - prediction>0.3 4 True\n"
     ]
    }
   ],
   "source": [
    "users = User.objects.filter(username__in=[\n",
    "    #\"nicole.vanmaanen@climateanalytics.org\",\n",
    "    \"carl.schleussner@climateanalytics.org\"\n",
    "])\n",
    "tag, created = Tag.objects.get_or_create(query=q,title=\"Food, conflict, migration - prediction>0.3 4\")\n",
    "print(tag, created)\n",
    "for i,d in enumerate(Doc.objects.filter(pk__in=random.sample(list(r_docs.values_list('pk',flat=True)),25))):\n",
    "    u = users[i%users.count()]\n",
    "    d.tag.add(tag)\n",
    "    do, created = DocOwnership.objects.get_or_create(\n",
    "        doc=d,\n",
    "        query=q,\n",
    "        tag=tag,\n",
    "        user=u\n",
    "    ) \n",
    "tag.update_tag()"
   ]
  },
  {
   "cell_type": "code",
   "execution_count": 20,
   "metadata": {},
   "outputs": [
    {
     "data": {
      "text/plain": [
       "0"
      ]
     },
     "execution_count": 20,
     "metadata": {},
     "output_type": "execute_result"
    }
   ],
   "source": []
  },
  {
   "cell_type": "code",
   "execution_count": 8,
   "metadata": {},
   "outputs": [
    {
     "name": "stdout",
     "output_type": "stream",
     "text": [
      "Food, conflict, migration - prediction>0.2 - 2 False\n"
     ]
    }
   ],
   "source": [
    "users = User.objects.filter(username__in=[\n",
    "    #\"nicole.vanmaanen@climateanalytics.org\",\n",
    "    \"carl.schleussner@climateanalytics.org\"\n",
    "])\n",
    "uc = users.count()\n",
    "tag, created = Tag.objects.get_or_create(query=q,title=\"Food, conflict, migration - prediction>0.2 - 2\")\n",
    "print(tag, created)\n",
    "for i,d in enumerate(Doc.objects.filter(pk__in=random.sample(list(r_docs.values_list('pk',flat=True)),uc*20))):\n",
    "    u = users[i%uc]\n",
    "    d.tag.add(tag)\n",
    "    do, created = DocOwnership.objects.get_or_create(\n",
    "        doc=d,\n",
    "        query=q,\n",
    "        tag=tag,\n",
    "        user=u\n",
    "    ) \n",
    "tag.update_tag()"
   ]
  },
  {
   "cell_type": "markdown",
   "metadata": {},
   "source": [
    "## Migration"
   ]
  },
  {
   "cell_type": "code",
   "execution_count": 47,
   "metadata": {},
   "outputs": [
    {
     "name": "stdout",
     "output_type": "stream",
     "text": [
      "3118\n",
      "human displacement|internal displacement|internally displaced|displaced person|refugee|migrant\n",
      "species, bird, mammal, fish, ecosystem, passerine, plankton, salmon, plant migration, eels, inlet migration, alligator, conflicting, aphid, reptile, thward migration, stward migration, horizontal migration, vegetation migration, tuna, meridional migration, vertical migration, autumn migration, spring migration, summer migration, winter migration, meridional migration, wildlife migration, lateral migration, animal migration, ward migration, seasonal migration, turtle, breeding, butterfly, elephant, waterfowl, inland migration, tree migration, (?:migration\\w*\\W+(?:\\w+\\W+){0,5}?SST|SST\\W+(?:\\w+\\W+){0,5}?migration*), (?:migration\\w*\\W+(?:\\w+\\W+){0,5}?marsh\\w*|marsh\\w*\\W+(?:\\w+\\W+){0,5}?migration*), (?:migration\\w*\\W+(?:\\w+\\W+){0,5}?atmospher\\w*|atmospher\\w*\\W+(?:\\w+\\W+){0,5}?migration*)\n",
      "species|bird|mammal|fish|ecosystem|passerine|plankton|salmon|plant migration|eels|inlet migration|alligator|conflicting|aphid|reptile|thward migration|stward migration|horizontal migration|vegetation migration|tuna|meridional migration|vertical migration|autumn migration|spring migration|summer migration|winter migration|meridional migration|wildlife migration|lateral migration|animal migration|ward migration|seasonal migration|turtle|breeding|butterfly|elephant|waterfowl|inland migration|tree migration|(?:migration\\w*\\W+(?:\\w+\\W+){0,5}?SST|SST\\W+(?:\\w+\\W+){0,5}?migration*)|(?:migration\\w*\\W+(?:\\w+\\W+){0,5}?marsh\\w*|marsh\\w*\\W+(?:\\w+\\W+){0,5}?migration*)|(?:migration\\w*\\W+(?:\\w+\\W+){0,5}?atmospher\\w*|atmospher\\w*\\W+(?:\\w+\\W+){0,5}?migration*)\n",
      "title__iregex\n",
      "content__iregex\n",
      "921 12\n",
      "###\n",
      " all query docs\n",
      "\n",
      "0.04930863274504882\n",
      "A dispute in the making: A critical examination of displacement, climate change and the Pacific Islands\n",
      "\n",
      "0.05396646902435645\n",
      "The Colonial Context of Filipino American Immigrants' Psychological Experiences\n",
      "\n",
      "0.1362896258167192\n",
      "An agent-based model of tsetse fly response to seasonal climatic drivers: Assessing the impact on sleeping sickness transmission rates\n",
      "\n",
      "0.027764491916087475\n",
      "Evaluation of Biogas Production from the Co-Digestion of Municipal Food Waste and Wastewater Sludge at Refugee Camps Using an Automated Methane Potential Test System\n",
      "\n",
      "0.1499915395641479\n",
      "Stable oxygen isotope evidence for mobility in medieval and post-medieval Trondheim, Norway\n",
      "\n",
      "###\n",
      " p > 0.25\n",
      "\n",
      "0.3028585385311761\n",
      "Rapid change in host use of the common cuckoo Cuculus canorus linked to climate change\n",
      "Parasites require synchrony with their hosts so if host timing changes with climate change, some parasites may decline and eventually go extinct. Residents and short-distance migrant hosts of the brood parasitic common cuckoo, Cuculus canorus, have advanced their phenology in response to climate change more than long-distance migrants, including the cuckoo itself. Because different parts of Europe show different degrees of climate change, we predicted that use of residents or short-distance migrants as hosts should have declined in areas with greater increase in spring temperature. Comparing relative frequency of parasitism of the two host categories in 23 European countries before and after 1990, when spring temperatures in many areas had started to increase, we found that relative parasitism of residents and short-distance migrants decreased. This change in host use was positively related to increase in spring temperature, consistent with the prediction that relative change in phenology for different migrant classes drives host-use patterns. These findings are consistent with the hypothesis that climate change affects the relative abundance of different host races of the common cuckoo.\n",
      "\n",
      "0.4107504456995757\n",
      "A geothermal climate change observatory: First year results from emigrant pass in northwest Utah\n",
      "Temperature-depth profiles, measured in boreholes, contain a temporal record of past changes in surface ground temperature and provide valuable constraints on climatic variations over the last few centuries. However, the linkage between ground temperature and meteorological variables including air temperature is imperfectly known. To understand that linkage better and to document in detail how the surface ground temperature changes propagate into the subsurface where they are later measured in temperature-depth logs in boreholes, we have designed and installed a geothermal climate change observatory. Installed in arid northwest Utah, our Emigrant Pass Observatory (EPO) consists of an array of thermistor strings in the subsurface and a meteorological station at the borehole collar. Results from our first complete annual cycle, November 1, 1993, though October 31, 1994, are presented. Ground and air temperatures generally track each other but with important time-varying offsets. The mean surface ground temperatures for the period are 11.3 degrees C on the granite outcrop and 9.5 degrees C for the partially shaded regolith site; mean air temperature at a 2-m mast height above the ground is 8.8 degrees C. The ground-air temperature differences are variable on timescales from days to seasons, largely governed by level of absorbed solar radiation. Marginal precipitation (8.6 mm) and ephemeral snow cover did not significantly disturb the ground-air temperature difference during the year monitored. Instrumental measurement of air temperature has nonrandom sampling biases that present problems for observing long term changes. The calculation of average annual air temperature at EPO decreases by 0.34 K as the sampling rate of air temperature is decreased from 60 s to every 12 hours. The attenuation and phase lag of thermal waves with depth confirm that heat conduction theory adequately describes the transient temperature field at this site, and yield in situ estimates of thermal diffusivity, a quantity needed to reconstruct surface ground temperature histories. Thermal diffusivity for the granite and regolith is 0.88 x 10(-6) m(2) s 1 and 0.45 x 10(-6) m(2) s(-1), respectively. Energy flux calculations for the Emigrant Pass Observatory site suggest that a geothermal climate change observatory has the capability of detecting a century scale energy perturbation that is one part in a million of the instantaneous flux.\n",
      "\n",
      "0.3735266012822371\n",
      "Mountain inhabitants' perspectives on climate change, and its impacts and adaptation based on temporal and spatial characteristics analysis: a case study of Mt. Yulong Snow, Southeastern Tibetan Plateau\n",
      "Based on the results of questionnaires issued to 202 local residents in the Mount Yulong Snow region, southeastern Tibetan Plateau, this study analyzes mountain residents' perspectives on climate change and its impacts, their strategies to adapt to climate change impacts, including their willingness or otherwise to become ecological migrants, and some of the factors that influence their perceptions. Overall, local perception of climate change and its impacts corresponds to the patterns of observed climate change revealed by climate records. The intensity of climate change perception shows a highly significant correlation with residents' age and villages' elevation gradient. Most respondents did not believe that climate change affected crop growing and their yields, but the number of crop insect pests was thought to be increasing slightly and the crop growth period to be extending. Nearly all respondents believed that climate change seriously affects the mountain tourism economy, and their way of life and spiritual world. Persistent drought in recent years has forced mountain dwellers to adjust industrial structure, save water in the agricultural economy, participate in mountain tourism and work outside the home in order to adapt to climate change impacts and supplement their meager farm incomes. Additionally, residents expect to receive government compensation and relief to mitigate natural disaster damage.\n",
      "\n",
      "0.2528510698814396\n",
      "The international nature of the Miramichi Fire\n",
      "The forest fire that swept across New Brunswick and Maine on 7 October 1825 is remembered as one of the largest and most devastating ones in recorded history, and the first great fire of North American settlement. Yet as its name suggests, the Miramichi Fire has been understood almost exclusively in local terms; historical accounts written in the U. S. or Canada even tend to ignore the blaze that burned on the other side of the border. The following essay, while focusing on the fire that burned along the Miramichi region of northeastern New Brunswick, restores the fire's international character, showing that what might first seem the embodiment of a local event-a chemical process responsive to hyper-local climatic, botanical, and even topographical conditions-was ultimately shaped by and in turn shaped natural and cultural events around the globe. The essay specifically explores how unusual climatic conditions in the late 1810s and early 1820s altered the fire regime of northeastern New Brunswick. The region's inhabitants, the great majority of whom were recent immigrants with little experience of the forests and fires of eastern North America, were unprepared for what was to come.\n",
      "\n",
      "0.28242034742522193\n",
      "Environmental and climate migrations: an overview of scientific literature using a bibliometric analysis\n",
      "Climate change is a key issue in twenty-first century international politics, as is evidenced by the twenty-four world conferences devoted to the subject that have been called by the United Nations. The effect that climate change exerts on human migration is a matter that has recently started to acquire considerable importance, not only as an element of public opinion, but also as a subject of academic publications. While available data on the matter is still far from precise and there are no definite figures on the climate change refugees numbers, published research shows that a colossal wave of migration could come about, caused by climate environmental conditions. In the view of the ever-growing importance of the connection between migration, climate and environmental change, the international scientific community has experienced a rapid growth of interest in these matters over the last ten years. The present contribution sets out to present, by means of a bibliometric analysis of scientific publications, a critical 'snapshot' of the development of the research that has been undertaken, paying particular attention to the integration of semantic elements that climatic and environmental change have in common with the issue of migration.\n",
      "\n"
     ]
    }
   ],
   "source": [
    "assigned = set(DocOwnership.objects.filter(query__project=project).values_list('doc__id',flat=True))\n",
    "print(len(assigned))\n",
    "\n",
    "s = \"human displacement, internal displacement, internally displaced, displaced person, refugee, migrant\"\n",
    "inclusion = s.replace(', ','|')\n",
    "print(inclusion)\n",
    "se = \"species, bird, mammal, fish, ecosystem, passerine, plankton, salmon, plant migration, eels, inlet migration, alligator, conflicting, aphid, reptile\"\n",
    "se += \", thward migration, stward migration, horizontal migration, vegetation migration, tuna, meridional migration, vertical migration\"\n",
    "se += \", autumn migration, spring migration, summer migration, winter migration, meridional migration, wildlife migration, lateral migration, animal migration, ward migration, seasonal migration\"\n",
    "se += \", turtle, breeding, butterfly, elephant, waterfowl, inland migration, tree migration\"\n",
    "se += \", (?:migration\\w*\\W+(?:\\w+\\W+){0,5}?SST|SST\\W+(?:\\w+\\W+){0,5}?migration*)\"\n",
    "se += \", (?:migration\\w*\\W+(?:\\w+\\W+){0,5}?marsh\\w*|marsh\\w*\\W+(?:\\w+\\W+){0,5}?migration*)\"\n",
    "se += \", (?:migration\\w*\\W+(?:\\w+\\W+){0,5}?atmospher\\w*|atmospher\\w*\\W+(?:\\w+\\W+){0,5}?migration*)\"\n",
    "print(se)\n",
    "exclusions = se.replace(', ','|')\n",
    "\n",
    "print(exclusions)\n",
    "\n",
    "p = 0.25\n",
    "\n",
    "pds = predicted_ids[predicted_ids['prediction']>p]\n",
    "\n",
    "dids = set([])\n",
    "eids = set([])\n",
    "for f in [\"title__iregex\",\"content__iregex\"]:\n",
    "    print(f)\n",
    "    dids = dids | set(q.doc_set.filter(**{f: inclusion}).values_list('pk',flat=True))\n",
    "    eids = eids | set(q.doc_set.filter(**{f: exclusions}).values_list('pk',flat=True))\n",
    "    \n",
    "doc_ids = dids - eids\n",
    "    \n",
    "docs = Doc.objects.filter(pk__in=doc_ids).exclude(id__in=assigned)\n",
    "\n",
    "#docs = q.doc_set.filter(title__iregex=inclusion).exclude(id__in=assigned).exclude(content__iregex=exclusions)\n",
    "r_docs = Doc.objects.filter(id__in=doc_ids & set(pds['id'])).exclude(id__in=assigned)\n",
    "\n",
    "print(docs.count(), r_docs.count())\n",
    "\n",
    "print('###\\n all query docs\\n')\n",
    "\n",
    "for d in Doc.objects.filter(pk__in=random.sample(list(docs.values_list('pk',flat=True)),5)):\n",
    "    try:\n",
    "        print(predicted_ids.loc[predicted_ids['id']==d.id,\"prediction\"].values[0])\n",
    "    except:\n",
    "        print(predicted_ids.loc[predicted_ids['id']==d.id,\"prediction\"].values)\n",
    "    print(d.title)\n",
    "    print()\n",
    "    \n",
    "print(f'###\\n p > {p}\\n')\n",
    "\n",
    "for d in Doc.objects.filter(pk__in=random.sample(list(r_docs.values_list('pk',flat=True)),5)):\n",
    "    try:\n",
    "        print(predicted_ids.loc[predicted_ids['id']==d.id,\"prediction\"].values[0])\n",
    "    except:\n",
    "        print(predicted_ids.loc[predicted_ids['id']==d.id,\"prediction\"].values)\n",
    "    print(d.title)\n",
    "    print(d.content)\n",
    "    print()\n",
    "    \n"
   ]
  },
  {
   "cell_type": "code",
   "execution_count": 51,
   "metadata": {},
   "outputs": [
    {
     "data": {
      "text/plain": [
       "4"
      ]
     },
     "execution_count": 51,
     "metadata": {},
     "output_type": "execute_result"
    }
   ],
   "source": [
    "max(2,4)"
   ]
  },
  {
   "cell_type": "code",
   "execution_count": 53,
   "metadata": {},
   "outputs": [
    {
     "name": "stdout",
     "output_type": "stream",
     "text": [
      "migration - extra 5 False\n"
     ]
    }
   ],
   "source": [
    "users = User.objects.filter(username__in=[\n",
    "    #\"nicole.vanmaanen@climateanalytics.org\",\n",
    "    \"galm\"\n",
    "])\n",
    "uc = users.count()\n",
    "tag, created = Tag.objects.get_or_create(query=q,title=\"migration - extra 5\")\n",
    "print(tag, created)\n",
    "\n",
    "for i,d in enumerate(Doc.objects.filter(pk__in=random.sample(list(r_docs.values_list('pk',flat=True)),min(uc*20, len(r_docs))))):\n",
    "    u = users[i%uc]\n",
    "    d.tag.add(tag)\n",
    "    do, created = DocOwnership.objects.get_or_create(\n",
    "        doc=d,\n",
    "        query=q,\n",
    "        tag=tag,\n",
    "        user=u\n",
    "    ) \n",
    "tag.update_tag()"
   ]
  },
  {
   "cell_type": "markdown",
   "metadata": {},
   "source": [
    "# Gender"
   ]
  },
  {
   "cell_type": "code",
   "execution_count": 22,
   "metadata": {},
   "outputs": [
    {
     "name": "stdout",
     "output_type": "stream",
     "text": [
      "3058\n",
      "gendered\n",
      "species, bird, mammal, fish, passerine, plankton, salmon, plant migration, eels, inlet migration, alligator, conflicting, aphid, reptile\n",
      "species|bird|mammal|fish|passerine|plankton|salmon|plant migration|eels|inlet migration|alligator|conflicting|aphid|reptile\n",
      "title__iregex\n",
      "content__iregex\n",
      "252 1\n",
      "###\n",
      " all query docs\n",
      "\n",
      "0.05572790218736664\n",
      "Local land use strategies in a globalizing world - Managing social and environmental dynamics\n",
      "\n",
      "0.045632938066949416\n",
      "Transgender Individuals' Workplace Experiences: The Applicability of Sexual Minority Measures and Models\n",
      "\n",
      "0.038127702130321184\n",
      "Challenges and possibilities for achieving household food security in the Western Sudan region: the role of female farmers\n",
      "\n",
      "0.0390006337716719\n",
      "Secret Service: Revealing Gender Biases in the Visibility and Value of Faculty Service\n",
      "\n",
      "0.08111153813881684\n",
      "Work in progress: Engineering faculty members' descriptions of the boundaries of engineering\n",
      "\n",
      "###\n",
      " p > 0.3\n",
      "\n"
     ]
    },
    {
     "ename": "ValueError",
     "evalue": "Sample larger than population or is negative",
     "output_type": "error",
     "traceback": [
      "\u001b[0;31m---------------------------------------------------------------------------\u001b[0m",
      "\u001b[0;31mValueError\u001b[0m                                Traceback (most recent call last)",
      "\u001b[0;32m<ipython-input-22-313a4513d396>\u001b[0m in \u001b[0;36m<module>\u001b[0;34m()\u001b[0m\n\u001b[1;32m     44\u001b[0m \u001b[0mprint\u001b[0m\u001b[0;34m(\u001b[0m\u001b[0;34mf'###\\n p > {p}\\n'\u001b[0m\u001b[0;34m)\u001b[0m\u001b[0;34m\u001b[0m\u001b[0;34m\u001b[0m\u001b[0m\n\u001b[1;32m     45\u001b[0m \u001b[0;34m\u001b[0m\u001b[0m\n\u001b[0;32m---> 46\u001b[0;31m \u001b[0;32mfor\u001b[0m \u001b[0md\u001b[0m \u001b[0;32min\u001b[0m \u001b[0mDoc\u001b[0m\u001b[0;34m.\u001b[0m\u001b[0mobjects\u001b[0m\u001b[0;34m.\u001b[0m\u001b[0mfilter\u001b[0m\u001b[0;34m(\u001b[0m\u001b[0mpk__in\u001b[0m\u001b[0;34m=\u001b[0m\u001b[0mrandom\u001b[0m\u001b[0;34m.\u001b[0m\u001b[0msample\u001b[0m\u001b[0;34m(\u001b[0m\u001b[0mlist\u001b[0m\u001b[0;34m(\u001b[0m\u001b[0mr_docs\u001b[0m\u001b[0;34m.\u001b[0m\u001b[0mvalues_list\u001b[0m\u001b[0;34m(\u001b[0m\u001b[0;34m'pk'\u001b[0m\u001b[0;34m,\u001b[0m\u001b[0mflat\u001b[0m\u001b[0;34m=\u001b[0m\u001b[0;32mTrue\u001b[0m\u001b[0;34m)\u001b[0m\u001b[0;34m)\u001b[0m\u001b[0;34m,\u001b[0m\u001b[0;36m5\u001b[0m\u001b[0;34m)\u001b[0m\u001b[0;34m)\u001b[0m\u001b[0;34m:\u001b[0m\u001b[0;34m\u001b[0m\u001b[0;34m\u001b[0m\u001b[0m\n\u001b[0m\u001b[1;32m     47\u001b[0m     \u001b[0;32mtry\u001b[0m\u001b[0;34m:\u001b[0m\u001b[0;34m\u001b[0m\u001b[0;34m\u001b[0m\u001b[0m\n\u001b[1;32m     48\u001b[0m         \u001b[0mprint\u001b[0m\u001b[0;34m(\u001b[0m\u001b[0mpredicted_ids\u001b[0m\u001b[0;34m.\u001b[0m\u001b[0mloc\u001b[0m\u001b[0;34m[\u001b[0m\u001b[0mpredicted_ids\u001b[0m\u001b[0;34m[\u001b[0m\u001b[0;34m'id'\u001b[0m\u001b[0;34m]\u001b[0m\u001b[0;34m==\u001b[0m\u001b[0md\u001b[0m\u001b[0;34m.\u001b[0m\u001b[0mid\u001b[0m\u001b[0;34m,\u001b[0m\u001b[0;34m\"prediction\"\u001b[0m\u001b[0;34m]\u001b[0m\u001b[0;34m.\u001b[0m\u001b[0mvalues\u001b[0m\u001b[0;34m[\u001b[0m\u001b[0;36m0\u001b[0m\u001b[0;34m]\u001b[0m\u001b[0;34m)\u001b[0m\u001b[0;34m\u001b[0m\u001b[0;34m\u001b[0m\u001b[0m\n",
      "\u001b[0;32m~/software/django-tmv/tmv/venv/lib/python3.6/random.py\u001b[0m in \u001b[0;36msample\u001b[0;34m(self, population, k)\u001b[0m\n\u001b[1;32m    318\u001b[0m         \u001b[0mn\u001b[0m \u001b[0;34m=\u001b[0m \u001b[0mlen\u001b[0m\u001b[0;34m(\u001b[0m\u001b[0mpopulation\u001b[0m\u001b[0;34m)\u001b[0m\u001b[0;34m\u001b[0m\u001b[0;34m\u001b[0m\u001b[0m\n\u001b[1;32m    319\u001b[0m         \u001b[0;32mif\u001b[0m \u001b[0;32mnot\u001b[0m \u001b[0;36m0\u001b[0m \u001b[0;34m<=\u001b[0m \u001b[0mk\u001b[0m \u001b[0;34m<=\u001b[0m \u001b[0mn\u001b[0m\u001b[0;34m:\u001b[0m\u001b[0;34m\u001b[0m\u001b[0;34m\u001b[0m\u001b[0m\n\u001b[0;32m--> 320\u001b[0;31m             \u001b[0;32mraise\u001b[0m \u001b[0mValueError\u001b[0m\u001b[0;34m(\u001b[0m\u001b[0;34m\"Sample larger than population or is negative\"\u001b[0m\u001b[0;34m)\u001b[0m\u001b[0;34m\u001b[0m\u001b[0;34m\u001b[0m\u001b[0m\n\u001b[0m\u001b[1;32m    321\u001b[0m         \u001b[0mresult\u001b[0m \u001b[0;34m=\u001b[0m \u001b[0;34m[\u001b[0m\u001b[0;32mNone\u001b[0m\u001b[0;34m]\u001b[0m \u001b[0;34m*\u001b[0m \u001b[0mk\u001b[0m\u001b[0;34m\u001b[0m\u001b[0;34m\u001b[0m\u001b[0m\n\u001b[1;32m    322\u001b[0m         \u001b[0msetsize\u001b[0m \u001b[0;34m=\u001b[0m \u001b[0;36m21\u001b[0m        \u001b[0;31m# size of a small set minus size of an empty list\u001b[0m\u001b[0;34m\u001b[0m\u001b[0;34m\u001b[0m\u001b[0m\n",
      "\u001b[0;31mValueError\u001b[0m: Sample larger than population or is negative"
     ]
    }
   ],
   "source": [
    "assigned = set(DocOwnership.objects.filter(query__project=project).values_list('doc__id',flat=True))\n",
    "print(len(assigned))\n",
    "\n",
    "s = \"gendered\"\n",
    "inclusion = s.replace(', ','|')\n",
    "print(inclusion)\n",
    "se = \"species, bird, mammal, fish, passerine, plankton, salmon, plant migration, eels, inlet migration, alligator, conflicting, aphid, reptile\"\n",
    "\n",
    "print(se)\n",
    "exclusions = se.replace(', ','|')\n",
    "\n",
    "print(exclusions)\n",
    "\n",
    "p = 0.3\n",
    "\n",
    "pds = predicted_ids[predicted_ids['prediction']>p]\n",
    "\n",
    "dids = set([])\n",
    "eids = set([])\n",
    "for f in [\"title__iregex\",\"content__iregex\"]:\n",
    "    print(f)\n",
    "    dids = dids | set(q.doc_set.filter(**{f: inclusion}).values_list('pk',flat=True))\n",
    "    eids = eids | set(q.doc_set.filter(**{f: exclusions}).values_list('pk',flat=True))\n",
    "    \n",
    "doc_ids = dids - eids\n",
    "    \n",
    "docs = Doc.objects.filter(pk__in=doc_ids).exclude(id__in=assigned)\n",
    "\n",
    "#docs = q.doc_set.filter(title__iregex=inclusion).exclude(id__in=assigned).exclude(content__iregex=exclusions)\n",
    "r_docs = Doc.objects.filter(id__in=doc_ids & set(pds['id'])).exclude(id__in=assigned)\n",
    "\n",
    "print(docs.count(), r_docs.count())\n",
    "\n",
    "print('###\\n all query docs\\n')\n",
    "\n",
    "for d in Doc.objects.filter(pk__in=random.sample(list(docs.values_list('pk',flat=True)),5)):\n",
    "    try:\n",
    "        print(predicted_ids.loc[predicted_ids['id']==d.id,\"prediction\"].values[0])\n",
    "    except:\n",
    "        print(predicted_ids.loc[predicted_ids['id']==d.id,\"prediction\"].values)\n",
    "    print(d.title)\n",
    "    print()\n",
    "    \n",
    "print(f'###\\n p > {p}\\n')\n",
    "\n",
    "for d in Doc.objects.filter(pk__in=random.sample(list(r_docs.values_list('pk',flat=True)),5)):\n",
    "    try:\n",
    "        print(predicted_ids.loc[predicted_ids['id']==d.id,\"prediction\"].values[0])\n",
    "    except:\n",
    "        print(predicted_ids.loc[predicted_ids['id']==d.id,\"prediction\"].values)\n",
    "    print(d.title)\n",
    "    print(d.content)\n",
    "    print()\n",
    "    \n"
   ]
  },
  {
   "cell_type": "code",
   "execution_count": 20,
   "metadata": {},
   "outputs": [
    {
     "name": "stdout",
     "output_type": "stream",
     "text": [
      "gender - extra True\n"
     ]
    }
   ],
   "source": [
    "users = User.objects.filter(username__in=[\n",
    "    #\"nicole.vanmaanen@climateanalytics.org\",\n",
    "    \"galm\"\n",
    "])\n",
    "uc = users.count()\n",
    "tag, created = Tag.objects.get_or_create(query=q,title=\"gender - extra\")\n",
    "print(tag, created)\n",
    "for i,d in enumerate(Doc.objects.filter(pk__in=random.sample(list(r_docs.values_list('pk',flat=True)),uc*20))):\n",
    "    u = users[i%uc]\n",
    "    d.tag.add(tag)\n",
    "    do, created = DocOwnership.objects.get_or_create(\n",
    "        doc=d,\n",
    "        query=q,\n",
    "        tag=tag,\n",
    "        user=u\n",
    "    ) \n",
    "tag.update_tag()"
   ]
  },
  {
   "cell_type": "markdown",
   "metadata": {},
   "source": [
    "# Livestock"
   ]
  },
  {
   "cell_type": "code",
   "execution_count": 26,
   "metadata": {},
   "outputs": [
    {
     "name": "stdout",
     "output_type": "stream",
     "text": [
      "3058\n",
      "livestock\n",
      "\n",
      "\n",
      "title__iregex\n",
      "content__iregex\n",
      "4340 140\n",
      "###\n",
      " all query docs\n",
      "\n",
      "0.0706649756563802\n",
      "DNA Genotyping Suggests that Recent Brucellosis Outbreaks in the Greater Yellowstone Area Originated from Elk\n",
      "\n",
      "0.1573114907627907\n",
      "Ecological change in fragile floodplain wetland ecosystems, natural vs human influence: The Macquarie Marshes of eastern Australia\n",
      "\n",
      "0.04242490061155495\n",
      "The epidemiology of peste des petits ruminants in Pakistan and possible control policies\n",
      "\n",
      "0.05788864229551964\n",
      "Climate Change Mitigation from Pyrolysis\n",
      "\n",
      "0.09631758510991496\n",
      "Effects of grazing exclusion on soil carbon dynamics in alpine grasslands of the Tibetan Plateau\n",
      "\n",
      "###\n",
      " p > 0.3\n",
      "\n",
      "0.6699753929869431\n",
      "Asynchrony in host and parasite phenology may decrease disease risk in livestock under climate warming: Nematodirus battus in lambs as a case study\n",
      "Mismatch in the phenology of trophically linked species as a result of climate warming has been shown to have far-reaching effects on animal communities, but implications for disease have so far received limited attention. This paper presents evidence suggestive of phenological asynchrony in a host-parasite system arising from climate change, with impacts on transmission. Diagnostic laboratory data on outbreaks of infection with the pathogenic nematode Nematodirus battus in sheep flocks in the UK were used to validate region-specific models of the effect of spring temperature on parasite transmission. The hatching of parasite eggs to produce infective larvae is driven by temperature, while the availability of susceptible hosts depends on lambing date, which is relatively insensitive to inter-annual variation in spring temperature. In southern areas and in warmer years, earlier emergence of infective larvae in spring was predicted, with decline through mortality before peak availability of susceptible lambs. Data confirmed model predictions, with fewer outbreaks recorded in those years and regions. Overlap between larval peaks and lamb availability was not reduced in northern areas, which experienced no decreases in the number of reported outbreaks. Results suggest that phenological asynchrony arising from climate warming may affect parasite transmission, with non-linear but predictable impacts on disease burden. Improved understanding of complex responses of host-parasite systems to climate change can contribute to effective adaptation of parasite control strategies.\n",
      "\n",
      "0.5718416672404868\n",
      "Changing pattern of local rainfall: analysis of a 50-year record in central Marsabit, northern Kenya\n",
      "Understanding rainfall pattern in the face of increased climate variability and change is crucial in determining management strategies for the associated risks. Analysis was performed for a 50-year rainfall data (1961-2010), collected on a daily basis from a meteorological station located in central Marsabit, northern Kenya. The data was computed for yearly rainfall pattern and changes in the yearly number of rainy and dry days. The results showed a reduction in yearly rainfall totals by more than 500mm and an increase in the yearly number of dry days by 19.6. The pattern is likely to affect crop and livestock production unless adaptation measures are identified and supported.\n",
      "\n",
      "0.5504113252811539\n",
      "Site Selection and Nest Survival of the Bar-headed Goose (Anser indicus) on the Mongolian Plateau\n",
      "Waterbirds breeding on the Mongolian Plateau in Central Asia must find suitable wetland areas for nesting in a semiarid region characterized by highly variable water conditions. The first systematic nesting study of a waterbird dependent on this region for breeding was conducted on the Bar-headed Goose (Anser indicus). The purpose of this study was to document Bar-headed Goose nesting locations, characterize nests and nesting strategies, and estimate daily nest survival (n = 235 nests) from eight areas of west-central Mongolia across three summers (2009-2011) using a modified Mayfield estimator. Bar-headed Goose daily nest survival ranged from 0.94 to 0.98, with a 3-year average nest success of 42.6% during incubation. Bar-headed Geese were found to primarily nest on isolated pond and lake islands as previously reported, but were also documented regularly, though less frequently, along rocky cliffs in several regions of west-central Mongolia. Daily nest survival was higher for cliff nests than for island nests. Information-theoretic models indicated that nest survival decreased with nest age and varied annually with changing environmental conditions. Results of this study suggest that while Bar-headed Geese primarily rely on nesting island sites these sites may be more susceptible to anthropogenic disturbance and predation events influenced by seasonal variation in environmental conditions, and that higher daily nest survival values documented for the less frequent cliff nest strategy may provide an important alternative strategy during poor island nest success years. Thus, conservation efforts for this and other waterbird species in the semiarid region should be focused on conserving nesting islands and protecting them from disturbance in areas of high livestock densities experiencing a rapidly warming climate.\n",
      "\n",
      "0.36325554261439613\n",
      "Microclimate has a greater influence than macroclimate on the availability of infective Haemonchus contortus larvae on herbage in a warmed temperate environment\n",
      "Global climate change is altering epidemiological patterns of gastrointestinal nematode infections in grazing livestock, including through effects of temperature and moisture on the availability of infective third-stage larvae (L3). While considerable experimental effort has been devoted to the influences of climate on L3 development and survival in major nematode species, knowledge of effects on L3 migration out of faeces and onto herbage is more limited. In this study, we examined elements of this process for Haemonchus contortus in controlled and natural climates. The effect of temperature on migration rate from faeces was quantified and found to peak at 15 degrees C. In glasshouses, a 3 degrees C difference in mean temperature failed to produce a statistically significant difference in the number of L3 reaching herbage after a single rainfall event, and faecal moisture content (FMC) did not decline significantly more rapidly at the higher temperatures. Most larvae left the faeces and reached the grass within 3 h after simulated rainfall. On natural pasture in temperate summer, FMC was strongly affected by microclimate, with shade and long grass both significantly slowing drying. Results suggest that microclimate is important in determining FMC and larval migration, and that its effects can be greater than those of macro climate, e.g. moderate differences in average ambient temperature. More work is needed to develop a full predictive understanding of larval availability in natural settings, which is the product of interacting factors acting on overlapping parasite cohorts.\n",
      "\n",
      "0.3860341632758151\n",
      "Role of Surface Melt and Icing Events in Livestock Mortality across Mongolia's Semi-Arid Landscape\n",
      "Livestock production is a socioeconomic linchpin in Mongolia and is affected by large-scale livestock die-offs. Colloquially known as dzuds, these die-offs are driven by anomalous climatic events, including extreme cold temperatures, extended snow cover duration (SCD) and drought. As average temperatures across Mongolia have increased at roughly twice the global rate, we hypothesized that increasing cold season surface melt including soil freeze/thaw (FT), snowmelt, and icing events associated with regional warming have become increasingly important drivers of dzud events as they can reduce pasture productivity and inhibit access to grazing. Here, we use daily brightness temperature (T-b) observations to identify anomalous surface melt and icing events across Mongolia from 2003-2016 and their contribution to dzuds relative to other climatic drivers, including winter temperatures, SCD, and drought. We find a positive relationship between surface melt and icing events and livestock mortality during the fall in southern Mongolia and during the spring in the central and western regions. Further, anomalous seasonal surface melt and icing events explain 17-34% of the total variance in annual livestock mortality, with cold temperatures as the leading contributor of dzuds (20-37%). Summer drought showed the greatest explanatory power (43%) but overall had less statistically significant relationships relative to winter temperatures. Our results indicate that surface melt and icing events will become an increasingly important driver of dzuds as annual temperatures and livestock populations are projected to increase in Mongolia.\n",
      "\n"
     ]
    }
   ],
   "source": [
    "assigned = set(DocOwnership.objects.filter(query__project=project).values_list('doc__id',flat=True))\n",
    "print(len(assigned))\n",
    "\n",
    "s = \"livestock\"\n",
    "inclusion = s.replace(', ','|')\n",
    "print(inclusion)\n",
    "se = \"\"\n",
    "\n",
    "print(se)\n",
    "exclusions = se.replace(', ','|')\n",
    "\n",
    "print(exclusions)\n",
    "\n",
    "p = 0.3\n",
    "\n",
    "pds = predicted_ids[predicted_ids['prediction']>p]\n",
    "\n",
    "dids = set([])\n",
    "eids = set([])\n",
    "for f in [\"title__iregex\",\"content__iregex\"]:\n",
    "    print(f)\n",
    "    dids = dids | set(q.doc_set.filter(**{f: inclusion}).values_list('pk',flat=True))\n",
    "    if se!=\"\":\n",
    "        eids = eids | set(q.doc_set.filter(**{f: exclusions}).values_list('pk',flat=True))\n",
    "    \n",
    "doc_ids = dids - eids\n",
    "    \n",
    "docs = Doc.objects.filter(pk__in=doc_ids).exclude(id__in=assigned)\n",
    "\n",
    "#docs = q.doc_set.filter(title__iregex=inclusion).exclude(id__in=assigned).exclude(content__iregex=exclusions)\n",
    "r_docs = Doc.objects.filter(id__in=doc_ids & set(pds['id'])).exclude(id__in=assigned)\n",
    "\n",
    "print(docs.count(), r_docs.count())\n",
    "\n",
    "print('###\\n all query docs\\n')\n",
    "\n",
    "for d in Doc.objects.filter(pk__in=random.sample(list(docs.values_list('pk',flat=True)),5)):\n",
    "    try:\n",
    "        print(predicted_ids.loc[predicted_ids['id']==d.id,\"prediction\"].values[0])\n",
    "    except:\n",
    "        print(predicted_ids.loc[predicted_ids['id']==d.id,\"prediction\"].values)\n",
    "    print(d.title)\n",
    "    print()\n",
    "    \n",
    "print(f'###\\n p > {p}\\n')\n",
    "\n",
    "for d in Doc.objects.filter(pk__in=random.sample(list(r_docs.values_list('pk',flat=True)),5)):\n",
    "    try:\n",
    "        print(predicted_ids.loc[predicted_ids['id']==d.id,\"prediction\"].values[0])\n",
    "    except:\n",
    "        print(predicted_ids.loc[predicted_ids['id']==d.id,\"prediction\"].values)\n",
    "    print(d.title)\n",
    "    print(d.content)\n",
    "    print()\n",
    "    \n"
   ]
  },
  {
   "cell_type": "code",
   "execution_count": 27,
   "metadata": {},
   "outputs": [
    {
     "name": "stdout",
     "output_type": "stream",
     "text": [
      "livestock True\n"
     ]
    }
   ],
   "source": [
    "users = User.objects.filter(username__in=[\n",
    "    #\"nicole.vanmaanen@climateanalytics.org\",\n",
    "    \"galm\"\n",
    "])\n",
    "uc = users.count()\n",
    "tag, created = Tag.objects.get_or_create(query=q,title=\"livestock\")\n",
    "print(tag, created)\n",
    "for i,d in enumerate(Doc.objects.filter(pk__in=random.sample(list(r_docs.values_list('pk',flat=True)),uc*20))):\n",
    "    u = users[i%uc]\n",
    "    d.tag.add(tag)\n",
    "    do, created = DocOwnership.objects.get_or_create(\n",
    "        doc=d,\n",
    "        query=q,\n",
    "        tag=tag,\n",
    "        user=u\n",
    "    ) \n",
    "tag.update_tag()"
   ]
  },
  {
   "cell_type": "markdown",
   "metadata": {},
   "source": [
    "# Infrastructure"
   ]
  },
  {
   "cell_type": "code",
   "execution_count": 34,
   "metadata": {},
   "outputs": [
    {
     "name": "stdout",
     "output_type": "stream",
     "text": [
      "3078\n",
      "damage\n",
      "\n",
      "\n",
      "title__iregex\n",
      "content__iregex\n",
      "10227 512\n",
      "###\n",
      " all query docs\n",
      "\n",
      "0.061944564329716165\n",
      "Oceanic acidification affects marine carbon pump and triggers extended marine oxygen holes\n",
      "\n",
      "0.10113250156765864\n",
      "Slovenian coast sea floods risk\n",
      "\n",
      "0.04511136578230738\n",
      "BEYOND RESTORATION - THE CASE OF ECOCIDE\n",
      "\n",
      "0.04086901793810889\n",
      "Social cost of carbon under shared socioeconomic pathways\n",
      "\n",
      "0.0975470824190027\n",
      "Geospatial approach for ecosystem change study of Lombok Island under the influence of climate change\n",
      "\n",
      "###\n",
      " p > 0.3\n",
      "\n",
      "0.3426128834204022\n",
      "Precipitation and damaging floods: Trends in the United States, 1932-97\n",
      "The poor relationship between what climatologists, hydrologists, and other physical scientists call hoods, and those floods that actually cause damage to life or property, has limited what can be reliably said about the causes of observed trends in damaging floods. It further limits what can be said about future impacts of floods on society based on predicted changes in the global hydrological cycle. This paper presents a conceptual framework for the systematic assessment of the factors that condition observed trends in flood damage. Using the framework, it assesses the role that variability in precipitation has in damaging flooding in the United States at national and regional levels. Three different measures of flood damage-absolute, per capita, and per unit wealth-each lead to different conclusions about the nature of the flood problem. At a national level, of the 10 precipitation measures examined in this study, the ones most closely related to hood damage are the number of 2-day heavy rainfall events and the number of wet days. Heavy rainfall events are defined relative to a measure of average rainfall in each area, not as absolute thresholds. The study indicates that the growth in recent decades in total damage is related to both climate factors and societal factors: increased damage is associated with increased precipitation and with increasing population and wealth. At the regional level, this study reports a stronger relationship between precipitation measures and hood damage, and indicates that different measures of precipitation are most closely related to damage in different regions. This study suggests that climate plays an important, but by no means determining, role in the growth in damaging floods in the United States in recent decades.\n",
      "\n",
      "0.3091464168058576\n",
      "Forecasting the combined effects of disparate disturbances on the persistence of long-lived gorgonians: a case study of Paramuricea clavata\n",
      "The combined effects of disparate impacts on population health are a continuing problem in risk assessment and management for threatened species. Populations of red gorgonian Paramuricea clavata in the NW Mediterranean Sea are threatened both by chronic and localized increases in mortality due to high diving activity and by widespread but episodic mass mortality events related to climatic anomalies. Using demographic data obtained from 3 populations (2 under contrasting levels of diving and one affected by a 1999 mass mortality event), we developed size-structured matrix models to forecast the long-term consequences of both disturbances and their combined effects. When we considered only the effects of diver damage, our results showed that population stability could be achieved with an increase in the annual survival of adult colonies of between 3 and 7%, demonstrating the need for diving reduction in the study locations, where there are estimated to be between 30000 and 70000 dives yr(-1). Modeling the effects of mass mortality events alone showed a low annual population growth rate (0.886) and near certain extinction risk over even short time scales. Considering these 2 types of impacts together, we found that the effects of mass mortality events aggravate the decline in gorgonian populations subjected to high diving impact, reaching the extinction threshold after 36 to 55 yr under the actual frequency of mass mortality events. Simulated reduction of diving effects dramatically increased the time to quasi-extinction for populations subjected to realistic frequencies of mass mortality events. Our simulations reveal the need of management actions to ensure the gorgonian viability in the face of climate change, and suggest that management of more controllable impacts, such as diving, can help buffer populations against the less controllable effects of climate change.\n",
      "\n",
      "0.5910802508005651\n",
      "Seagrass tolerance to herbivory under increased ocean temperatures\n",
      "Climate change is acknowledged as a major threat to marine ecosystems, but the effect of temperature on species interactions remains poorly understood. We quantified the effects of long-term warming on plant-herbivore interactions of a dominant seagrass, Zostera muelleri. Growth, herbivory and tolerance to damage were compared between a meadow warmed by the thermal plume from a power station for 30 years (2-3 degrees C above background temperatures) and three control locations. Leaf growth rates and tissue loss were spatially variable but unrelated to temperature regimes. Natural herbivory was generally low. Simulated herbivory experiments showed that the tolerance of Z. muelleri to defoliation did not differ between warm and unimpacted meadows, with damaged and undamaged plants maintaining similar growth rates irrespective of temperature. These results suggest that the ability of temperate Z muelleri to tolerate herbivory is not strongly influenced by warming, and this species may be relatively resilient to future environmental change. (C) 2013 Elsevier Ltd. All rights reserved.\n",
      "\n",
      "0.3353637582949749\n",
      "Assessing climate change vulnerability and local adaptation strategies in adjacent communities of the Kribi-Campo coastal ecosystems, South Cameroon\n",
      "Campo coastal area. Variables of exposure, sensitivity and adaptive capacity are described and assessed based on the community's perception and biophysical evidence. Historical changes in rainfall and temperature variables, mangrove cover and occurrence of extreme climatic events are taken as indicators of exposure. Losses of property and income structure are used as indicators of sensitivity. Human, natural, social, financial and physical assets are used as elements of adaptive capacity. Focus group discussions were held with key informants in 12 settlements, and a survey was conducted with 150 household representatives (14 Bagyeli pygmies and 136 Bantou) to gather perceptions on climate change and adaptation strategies. Results show evidence of increased -vulnerability due to decreasing rainfall and irregular rainfall patterns, increasing occurrences of extreme climatic events and increased levels of coastal erosion. These have resulted in several effects, most significantly in the decline of agricultural production, reported by 57% of respondents, and damages to housing reported by 30% of respondents. Adaptive capacities are low. > 60% of respondents do not use any adaptation strategy. All sectors considered, the identified responses to climate related phenomena include early harvesting of crop, farm abandonment, change of productive activity, change of farm location, house reinforcement. The study concludes that households living here are susceptible to the possible impacts of climate change. Income diversification, mangrove afforestation and climate education should be considered as priorities for adaptation in this area.\n",
      "\n",
      "0.4506043144016896\n",
      "Forest Fire Risk Zone Modeling Using Logistic Regression and GIS: An Iranian Case Study\n",
      "Forest fires are an important environmental concern worldwide, affecting the soil, forests and human lives. During the process of burning, soil nutrients are depleted and the soil is subsequently more vulnerable to erosion. Nowadays it is necessary to identify the factors influencing the occurrence of fire and fire hazard areas, in order to minimize the frequency of fire and avert damage. Logistic regression was used to study the forest fire risk and identify the most influential factors in the occurrence of forest fires. Climatic variables (temperature and annual precipitation), human factors (distance from streams and farmland) and physiography (land slope and elevation) were considered and their correlation with the occurrence of fires investigated. Results of model validation and sensitivity of various areas to fire were examined with the ROC coefficient and Hosmer-Lemeshow test. The estimated coefficients for the independent variables indicated that the probability of occurrence of fire is negatively related to land slope, site elevation and distance from farmlands, but is positively related to amount of annual precipitation.\n",
      "\n"
     ]
    }
   ],
   "source": [
    "assigned = set(DocOwnership.objects.filter(query__project=project).values_list('doc__id',flat=True))\n",
    "print(len(assigned))\n",
    "\n",
    "s = \"damage\"\n",
    "inclusion = s.replace(', ','|')\n",
    "print(inclusion)\n",
    "se = \"\"\n",
    "\n",
    "print(se)\n",
    "exclusions = se.replace(', ','|')\n",
    "\n",
    "print(exclusions)\n",
    "\n",
    "p = 0.3\n",
    "\n",
    "pds = predicted_ids[predicted_ids['prediction']>p]\n",
    "\n",
    "dids = set([])\n",
    "eids = set([])\n",
    "for f in [\"title__iregex\",\"content__iregex\"]:\n",
    "    print(f)\n",
    "    dids = dids | set(q.doc_set.filter(**{f: inclusion}).values_list('pk',flat=True))\n",
    "    if se!=\"\":\n",
    "        eids = eids | set(q.doc_set.filter(**{f: exclusions}).values_list('pk',flat=True))\n",
    "    \n",
    "doc_ids = dids - eids\n",
    "    \n",
    "docs = Doc.objects.filter(pk__in=doc_ids).exclude(id__in=assigned)\n",
    "\n",
    "#docs = q.doc_set.filter(title__iregex=inclusion).exclude(id__in=assigned).exclude(content__iregex=exclusions)\n",
    "r_docs = Doc.objects.filter(id__in=doc_ids & set(pds['id'])).exclude(id__in=assigned)\n",
    "\n",
    "print(docs.count(), r_docs.count())\n",
    "\n",
    "print('###\\n all query docs\\n')\n",
    "\n",
    "for d in Doc.objects.filter(pk__in=random.sample(list(docs.values_list('pk',flat=True)),5)):\n",
    "    try:\n",
    "        print(predicted_ids.loc[predicted_ids['id']==d.id,\"prediction\"].values[0])\n",
    "    except:\n",
    "        print(predicted_ids.loc[predicted_ids['id']==d.id,\"prediction\"].values)\n",
    "    print(d.title)\n",
    "    print()\n",
    "    \n",
    "print(f'###\\n p > {p}\\n')\n",
    "\n",
    "for d in Doc.objects.filter(pk__in=random.sample(list(r_docs.values_list('pk',flat=True)),5)):\n",
    "    try:\n",
    "        print(predicted_ids.loc[predicted_ids['id']==d.id,\"prediction\"].values[0])\n",
    "    except:\n",
    "        print(predicted_ids.loc[predicted_ids['id']==d.id,\"prediction\"].values)\n",
    "    print(d.title)\n",
    "    print(d.content)\n",
    "    print()\n",
    "    \n"
   ]
  },
  {
   "cell_type": "code",
   "execution_count": 35,
   "metadata": {},
   "outputs": [
    {
     "name": "stdout",
     "output_type": "stream",
     "text": [
      "damage True\n"
     ]
    }
   ],
   "source": [
    "users = User.objects.filter(username__in=[\n",
    "    #\"nicole.vanmaanen@climateanalytics.org\",\n",
    "    \"galm\"\n",
    "])\n",
    "uc = users.count()\n",
    "tag, created = Tag.objects.get_or_create(query=q,title=\"damage\")\n",
    "print(tag, created)\n",
    "for i,d in enumerate(Doc.objects.filter(pk__in=random.sample(list(r_docs.values_list('pk',flat=True)),uc*20))):\n",
    "    u = users[i%uc]\n",
    "    d.tag.add(tag)\n",
    "    do, created = DocOwnership.objects.get_or_create(\n",
    "        doc=d,\n",
    "        query=q,\n",
    "        tag=tag,\n",
    "        user=u\n",
    "    ) \n",
    "tag.update_tag()"
   ]
  },
  {
   "cell_type": "markdown",
   "metadata": {},
   "source": [
    "# Economy"
   ]
  },
  {
   "cell_type": "code",
   "execution_count": 41,
   "metadata": {},
   "outputs": [
    {
     "name": "stdout",
     "output_type": "stream",
     "text": [
      "3098\n",
      "economic impact|economic growth|economic effect|household income\n",
      "\n",
      "\n",
      "title__iregex\n",
      "content__iregex\n",
      "3653 80\n",
      "###\n",
      " all query docs\n",
      "\n",
      "0.07489866301805552\n",
      "Predictability and numerical modelling of the North Atlantic Oscillation\n",
      "\n",
      "0.112645735168595\n",
      "Experimental forecasts of the Indian Ocean Dipole using a coupled OAGCM\n",
      "\n",
      "0.13112979533730162\n",
      "Buying environmental problems: The invasive potential of imported freshwater turtles in Argentina\n",
      "\n",
      "0.07618368530061463\n",
      "Desalination and the disarticulation of water resources: Stabilising the neoliberal model in Chile\n",
      "\n",
      "0.017898932459311918\n",
      "A multi-objective extended input-output model for a regional economy\n",
      "\n",
      "###\n",
      " p > 0.35\n",
      "\n",
      "0.38504401198148297\n",
      "Interaction between El Nino and Extreme Indian Ocean Dipole\n",
      "Climate variability in the tropical Indo-Pacific sector has undergone dramatic changes under global ocean warming. Extreme Indian Ocean dipole (IOD) events occurred repeatedly in recent decades with an unprecedented series of three consecutive episodes during 2006-08, causing vast climate and socioeconomic effects worldwide and weakening the historic El Nino-Indian monsoon relationship. Major attention has been paid to the El Nino influence on the Indian Ocean, but how the IOD influences El Nino and its predictability remained an important issue to be understood. On the basis of various forecast experiments activating and suppressing air-sea coupling in the individual tropical ocean basins using a state-of-the-art coupled ocean atmosphere model with demonstrated predictive capability, the present study shows that the extreme IOD plays a key role in driving the 1994 pseudo-El Nino, in contrast with traditional El Nino theory. The pseudo El Nino is more frequently observed in recent decades, coincident with a weakened atmospheric Walker circulation in response to anthropogenic forcing. The study's results suggest that extreme IOD may significantly enhance El Nino and its onset forecast, which has being a long-standing challenge, and El Nino in turn enhances IOD and its long-range predictability. The intrinsic El Nino-IOD interaction found here provides hope for enhanced prediction skill of both of these climate modes, and it sheds new light on the tropical climate variations and their changes under the influence of global warming.\n",
      "\n",
      "0.6079566328991243\n",
      "Economic consequences of optimized water management for a prolonged, severe drought in California\n",
      "If abrupt climate change has occurred in the past and may be more likely under human forcing, it is relevant to look at the adaptability of current infrastructure systems to severe conditions of the recent past. Geologic evidence suggests two extreme droughts in California during the last few thousand years, each 120-200 years long, with mean annual streamflows 40%-60% of the historical mean. This study synthesized a 72 year drought with half of mean historical inflows using random sampling of historical dry years. One synthetic hydrological record is used, and sensitivity to different interpretations of the paleorecord is not evaluated. Economic effects and potential adaptation of California's water supply system in 2020 to this drought is explored using a hydroeconomic optimization model. The model considers how California could respond to such an extreme drought using water trading and provides best-case estimates of economic costs and effects on water operations and demands. Results illustrate the ability of extensive, intertied, and flexible water systems with heterogeneous water demands to respond to severe stress. The study follows a different approach to climate change impact studies, focusing on past climate changes from the paleorecord rather than downscaled general circulation model results to provide plausible hydrologic scenarios. Adaptations suggested for the sustained drought are similar for dry forms of climate warming in California and are expensive but not catastrophic for the overall economy but would impose severe burdens on the agricultural sector and environmental water uses.\n",
      "\n",
      "0.530855092209745\n",
      "Quality Matters More Than Quantity: Asymmetric Temperature Effects on Crop Yield and Quality Grade\n",
      "Climate change affects agriculture by altering not only output quantity, but also crop quality. We quantify the economic impacts of climate change on agriculture through changes in both quantity and quality, where quality is measured by crop grades. Our model controls for methodological issues regarding sample selection, aggregation, phenology, and nonlinearity. The empirical application to Japanese rice production indicates that temperature effects are asymmetric: quantity is especially vulnerable to cold, whereas quality is vulnerable to extremely high temperature. Using these results, we simulate the effect of global warming, and we find that warming (a 3 A degrees C increase) increases farm revenues by improving yield but decreases revenues as a result of deteriorating quality. The net effect is negative, suggesting that quality matters more than quantity. The negative effect, however, can be mitigated by shifting cultivation periods and/or regions. Overall, our results suggest that the estimated impacts of climate change and adaptation strategies could be severely misleading unless quality is considered.\n",
      "\n",
      "0.3588652371407252\n",
      "Is a signature of socio-economic impact written on the climate?\n",
      "Surging population associated with large-scale colonization, tropical deforestation, and industrialization in parts of Asia that constitute over 60% of the global population may lead to changes in the climate of that region. Identifying such changes is of great importance to scientists and policy makers. Concerning this, an approach is made here to assess the chemical composition in the troposphere over the region that happens to be the globe's longest belt of largest population density (LBLPD) and to assess the long term rainfall pattern of a tropical region lying along the belt of mountain ranges where an intense deforestation has been taking place on a large scale for several decades. Further, this paper reports the long term temperature and rainfall pattern of highly industriatized cities that have one of the fastest population growth rates. The tropospheric levels of CH4, CO and O-3 over LBLPD are found to be remarkably higher than those over the stations lying outside the belt. The long term rainfall data of the belt of high mountain ranges shows a significant decreasing trend, whereas the data for adjacent coastal belt, which is normally the upwind side of the mountain belt, does not show any kind of trend. Surface, air temperature and rainfall data for industrial cities with population greater than ten million shows a definite increasing trend whereas no trend is seen in data for adjacent non-industrialized towns.\n",
      "\n",
      "0.3819193102695465\n",
      "Drought Characteristics and Propagation in the Semiarid Heihe River Basin in Northwestern China\n",
      "Meteorological and hydrological droughts can bring different socioeconomic impacts. In this study, we investigated meteorological and hydrological drought characteristics and propagation using the standardized precipitation index (SPI) and standardized streamflow index (SSI), over the upstream and midstream of the Heihe River basin (UHRB and MHRB, respectively). The correlation analysis and cross-wavelet transform were adopted to explore the relationship between meteorological and hydrological droughts in the basin. Three modeling experiments were performed to quantitatively understand how climate change and human activities influence hydrological drought and propagation. Results showed that meteorological drought characteristics presented little difference between UHRB and MHRB, while hydrological drought events are more frequent in the MHRB. In the UHRB, there were positive relationships between meteorological and hydrological droughts, whereas drought events became less frequent but longer when meteorological drought propagated into hydrological drought. Human activities have obviously changed the positive correlation to negative in the MHRB, especially during warm and irrigation seasons. The propagation time varied with seasonal climate characteristics and human activities, showing shorter values due to higher evapotranspiration, reservoir filling, and irrigation. Quantitative evaluation showed that climate change was inclined to increase streamflow and propagation time, contributing from -57% to 63%. However, more hydrological droughts and shorter propagation time were detected in the MHRB because human activities play a dominant role in water consumption with contribution rate greater than (-)89%. This study provides a basis for understanding the mechanism of hydrological drought and for the development of improved hydrological drought warning and forecasting system in the HRB.\n",
      "\n"
     ]
    }
   ],
   "source": [
    "assigned = set(DocOwnership.objects.filter(query__project=project).values_list('doc__id',flat=True))\n",
    "print(len(assigned))\n",
    "\n",
    "s = 'economic impact, economic growth, economic effect, household income'\n",
    "inclusion = s.replace(', ','|')\n",
    "print(inclusion)\n",
    "se = \"\"\n",
    "\n",
    "print(se)\n",
    "exclusions = se.replace(', ','|')\n",
    "\n",
    "print(exclusions)\n",
    "\n",
    "p = 0.35\n",
    "\n",
    "pds = predicted_ids[predicted_ids['prediction']>p]\n",
    "\n",
    "dids = set([])\n",
    "eids = set([])\n",
    "for f in [\"title__iregex\",\"content__iregex\"]:\n",
    "    print(f)\n",
    "    dids = dids | set(q.doc_set.filter(**{f: inclusion}).values_list('pk',flat=True))\n",
    "    if se!=\"\":\n",
    "        eids = eids | set(q.doc_set.filter(**{f: exclusions}).values_list('pk',flat=True))\n",
    "    \n",
    "doc_ids = dids - eids\n",
    "    \n",
    "docs = Doc.objects.filter(pk__in=doc_ids).exclude(id__in=assigned)\n",
    "\n",
    "#docs = q.doc_set.filter(title__iregex=inclusion).exclude(id__in=assigned).exclude(content__iregex=exclusions)\n",
    "r_docs = Doc.objects.filter(id__in=doc_ids & set(pds['id'])).exclude(id__in=assigned)\n",
    "\n",
    "print(docs.count(), r_docs.count())\n",
    "\n",
    "print('###\\n all query docs\\n')\n",
    "\n",
    "for d in Doc.objects.filter(pk__in=random.sample(list(docs.values_list('pk',flat=True)),5)):\n",
    "    try:\n",
    "        print(predicted_ids.loc[predicted_ids['id']==d.id,\"prediction\"].values[0])\n",
    "    except:\n",
    "        print(predicted_ids.loc[predicted_ids['id']==d.id,\"prediction\"].values)\n",
    "    print(d.title)\n",
    "    print()\n",
    "    \n",
    "print(f'###\\n p > {p}\\n')\n",
    "\n",
    "for d in Doc.objects.filter(pk__in=random.sample(list(r_docs.values_list('pk',flat=True)),5)):\n",
    "    try:\n",
    "        print(predicted_ids.loc[predicted_ids['id']==d.id,\"prediction\"].values[0])\n",
    "    except:\n",
    "        print(predicted_ids.loc[predicted_ids['id']==d.id,\"prediction\"].values)\n",
    "    print(d.title)\n",
    "    print(d.content)\n",
    "    print()\n",
    "    \n"
   ]
  },
  {
   "cell_type": "code",
   "execution_count": 42,
   "metadata": {},
   "outputs": [
    {
     "name": "stdout",
     "output_type": "stream",
     "text": [
      "economic True\n"
     ]
    }
   ],
   "source": [
    "users = User.objects.filter(username__in=[\n",
    "    #\"nicole.vanmaanen@climateanalytics.org\",\n",
    "    \"galm\"\n",
    "])\n",
    "uc = users.count()\n",
    "tag, created = Tag.objects.get_or_create(query=q,title=\"economic\")\n",
    "print(tag, created)\n",
    "for i,d in enumerate(Doc.objects.filter(pk__in=random.sample(list(r_docs.values_list('pk',flat=True)),uc*20))):\n",
    "    u = users[i%uc]\n",
    "    d.tag.add(tag)\n",
    "    do, created = DocOwnership.objects.get_or_create(\n",
    "        doc=d,\n",
    "        query=q,\n",
    "        tag=tag,\n",
    "        user=u\n",
    "    ) \n",
    "tag.update_tag()"
   ]
  },
  {
   "cell_type": "code",
   "execution_count": 54,
   "metadata": {},
   "outputs": [],
   "source": [
    "## Conflict"
   ]
  },
  {
   "cell_type": "code",
   "execution_count": 60,
   "metadata": {},
   "outputs": [
    {
     "name": "stdout",
     "output_type": "stream",
     "text": [
      "3162\n",
      "war\\W|violence\n",
      "\n",
      "\n",
      "title__iregex\n",
      "content__iregex\n",
      "1634 23\n",
      "###\n",
      " all query docs\n",
      "\n",
      "0.1213788995365084\n",
      "Sun, climate, hunger, and mass migration\n",
      "\n",
      "0.08235230878529808\n",
      "Droughts, state-citizen relations and support for political violence in Sub-Saharan Africa: A micro-level analysis\n",
      "\n",
      "0.12487470533492726\n",
      "Measuring the effect of climate change on wars in history\n",
      "\n",
      "0.02754982604936874\n",
      "Cholera and the Environment in Nineteenth-Century Japan\n",
      "\n",
      "0.06653837269715654\n",
      "Survival Migration: A New Protection Framework\n",
      "\n",
      "###\n",
      " p > 0.35\n",
      "\n",
      "0.533337246960564\n",
      "SUMMER BEAT WAVES IN THESSALONIKI, GREECE, DURING THE PERIOD FROM 1931 TO 2012\n",
      "Climate change is projected to increase minimum, mean and maximum air temperatures and the frequency of very hot days, as heat waves become more frequent, intense and prolonged hot-weather episodes responsible for high excess morbidity and mortality rates. The present study examines the temporal fluctuations in heat wave occurrence and intensity in the city of Thessaloniki, Greece, during the summer period: June, July and August for the years 1931-2012 (except for the most part of the second war period). A site-specific definition of a heat wave was also obtained for the area of Thessaloniki, on the basis of long-term meteorological data. The time-dependent structure of several thermal stress indices shows a distinct pattern of a nearly parabolic behaviour with 2 periods of extreme heat wave episodes (from 1952 to 1957 and after the year 1987) with the peaks of heat wave severity in summers 1934, 1935, 1939, 1945, 1952, 1954, 1957, 1958, 1963, 1968, 1987, 1988, 2000, 2007 and 2012. A very low occurrence of heat waves was typical during the decade of the 1970's. The increasing trends in thermal stress indices, for the last more than 40 years, are perhaps not a proof but an indicator of an extreme event, probably due to the climatic changes.\n",
      "\n",
      "0.6302503768005746\n",
      "Impacts of a nuclear war in South Asia on soybean and maize production in the Midwest United States\n",
      "Crop production would decline in the Midwestern United States from climate change following a regional nuclear conflict between India and Pakistan. Using Agro-IBIS, a dynamic agroecosystem model, we simulated the response of maize and soybeans to cooler, drier, and darker conditions from war-related smoke. We combined observed climate conditions for the states of Iowa, Illinois, Indiana, and Missouri with output from a general circulation climate model simulation that injected 5 Tg of elemental carbon into the upper troposphere. Both maize and soybeans showed notable yield reductions for a decade after the event. Maize yields declined 10-40 % while soybean yields dropped 2-20 %. Temporal variation in magnitude of yield for both crops generally followed the variation in climatic anomalies, with the greatest decline in the 5 years following the 5 Tg event and then less, but still substantial yield decline, for the rest of the decade. Yield reduction for both crops was linked to changes in growing period duration and, less markedly, to reduced precipitation and altered maximum daily temperature during the growing season. The seasonal average of daily maximum temperature anomalies, combined with precipitation and radiation changes, had a quadratic relationship to yield differences; small (0 A degrees C) and large (-3 A degrees C) maximum temperature anomalies combined with other changes led to increased yield loss, but medium changes (-1 A degrees C) had small to neutral effects on yield. The exact timing of the temperature changes during the various crop growth phases also had an important effect.\n",
      "\n",
      "0.3819825354671337\n",
      "Climate Change and Mental Health\n",
      "Climate change is an enormous challenge for our communities, our country, and our world. Recently much attention has been paid to the physical impacts of climate change, including extreme heat events, droughts, extreme storms, and rising sea levels. However, much less attention has been paid to the psychological impacts. This article examines the likely psychological impacts of climate change, including anxiety, stress, and depression; increases in violence and aggression; and loss of community identity. Nurses can play a vital role in local and regional climate strategies by preparing their patients, health care facilities, and communities to effectively address the anticipated mental health impacts of climate change.\n",
      "\n",
      "0.4177634712213046\n",
      "Multi-century cool- and warm-season rainfall reconstructions for Australia's major climatic regions\n",
      "Australian seasonal rainfall is strongly affected by large-scale ocean-atmosphere climate influences. In this study, we exploit the links between these precipitation influences, regional rainfall variations, and palaeoclimate proxies in the region to reconstruct Australian regional rainfall between four and eight centuries into the past. We use an extensive network of palaeoclimate records from the Southern Hemisphere to reconstruct cool (April-September) and warm (October-March) season rainfall in eight natural resource management (NRM) regions spanning the Australian continent. Our bi-seasonal rainfall reconstruction aligns well with independent early documentary sources and existing reconstructions. Critically, this reconstruction allows us, for the first time, to place recent observations at a bi-seasonal temporal resolution into a pre-instrumental context, across the entire continent of Australia. We find that recent 30- and 50-year trends towards wetter conditions in tropical northern Australia are highly unusual in the multi-century context of our reconstruction. Recent cool-season drying trends in parts of southern Australia are very unusual, although not unprecedented, across the multi-century context. We also use our reconstruction to investigate the spatial and temporal extent of historical drought events. Our reconstruction reveals that the spatial extent and duration of the Millennium Drought (1997-2009) appears either very much below average or unprecedented in southern Australia over at least the last 400 years. Our reconstruction identifies a number of severe droughts over the past several centuries that vary widely in their spatial footprint, highlighting the high degree of diversity in historical droughts across the Australian continent. We document distinct characteristics of major droughts in terms of their spatial extent, duration, intensity, and seasonality. Compared to the three largest droughts in the instrumental period (Federation Drought, 1895-1903; World War II Drought, 1939-1945; and the Millennium Drought, 1997-2005), we find that the historically documented Settlement Drought (1790-1793), Sturt's Drought (1809-1830) and the Goyder Line Drought (1861-1866) actually had more regionalised patterns and reduced spatial extents. This seasonal rainfall reconstruction provides a new opportunity to understand Australian rainfall variability by contextualising severe droughts and recent trends in Australia.\n",
      "\n",
      "0.4266508300364013\n",
      "350 Years of Fire-Climate-Human Interactions in a Great Lakes Sandy Outwash Plain\n",
      "Throughout much of eastern North America, quantitative records of historical fire regimes and interactions with humans are absent. Annual resolution fire scar histories provide data on fire frequency, extent, and severity, but also can be used to understand fire-climate-human interactions. This study used tree-ring dated fire scars from red pines (Pinus resinosa) at four sites in the Northern Sands Ecological Landscapes of Wisconsin to quantify the interactions among fire occurrence and seasonality, drought, and humans. New methods for assessing the influence of human ignitions on fire regimes were developed. A temporal and spatial index of wildland fire was significantly correlated (r = 0.48) with drought indices (Palmer Drought Severity Index, PDSI). Fire intervals varied through time with human activities that included early French Jesuit missions, European trade (fur), diseases, war, and land use. Comparisons of historical fire records suggest that annual climate in this region has a broad influence on the occurrence of fire years in the Great Lakes region.\n",
      "\n"
     ]
    }
   ],
   "source": [
    "assigned = set(DocOwnership.objects.filter(query__project=project).values_list('doc__id',flat=True))\n",
    "print(len(assigned))\n",
    "\n",
    "s = 'war\\W, violence'\n",
    "inclusion = s.replace(', ','|')\n",
    "print(inclusion)\n",
    "se = \"\"\n",
    "\n",
    "print(se)\n",
    "exclusions = se.replace(', ','|')\n",
    "\n",
    "print(exclusions)\n",
    "\n",
    "p = 0.35\n",
    "\n",
    "pds = predicted_ids[predicted_ids['prediction']>p]\n",
    "\n",
    "dids = set([])\n",
    "eids = set([])\n",
    "for f in [\"title__iregex\",\"content__iregex\"]:\n",
    "    print(f)\n",
    "    dids = dids | set(q.doc_set.filter(**{f: inclusion}).values_list('pk',flat=True))\n",
    "    if se!=\"\":\n",
    "        eids = eids | set(q.doc_set.filter(**{f: exclusions}).values_list('pk',flat=True))\n",
    "    \n",
    "doc_ids = dids - eids\n",
    "    \n",
    "docs = Doc.objects.filter(pk__in=doc_ids).exclude(id__in=assigned)\n",
    "\n",
    "#docs = q.doc_set.filter(title__iregex=inclusion).exclude(id__in=assigned).exclude(content__iregex=exclusions)\n",
    "r_docs = Doc.objects.filter(id__in=doc_ids & set(pds['id'])).exclude(id__in=assigned)\n",
    "\n",
    "print(docs.count(), r_docs.count())\n",
    "\n",
    "print('###\\n all query docs\\n')\n",
    "\n",
    "for d in Doc.objects.filter(pk__in=random.sample(list(docs.values_list('pk',flat=True)),5)):\n",
    "    try:\n",
    "        print(predicted_ids.loc[predicted_ids['id']==d.id,\"prediction\"].values[0])\n",
    "    except:\n",
    "        print(predicted_ids.loc[predicted_ids['id']==d.id,\"prediction\"].values)\n",
    "    print(d.title)\n",
    "    print()\n",
    "    \n",
    "print(f'###\\n p > {p}\\n')\n",
    "\n",
    "for d in Doc.objects.filter(pk__in=random.sample(list(r_docs.values_list('pk',flat=True)),5)):\n",
    "    try:\n",
    "        print(predicted_ids.loc[predicted_ids['id']==d.id,\"prediction\"].values[0])\n",
    "    except:\n",
    "        print(predicted_ids.loc[predicted_ids['id']==d.id,\"prediction\"].values)\n",
    "    print(d.title)\n",
    "    print(d.content)\n",
    "    print()\n",
    "    \n"
   ]
  },
  {
   "cell_type": "code",
   "execution_count": 61,
   "metadata": {},
   "outputs": [
    {
     "name": "stdout",
     "output_type": "stream",
     "text": [
      "war True\n"
     ]
    }
   ],
   "source": [
    "users = User.objects.filter(username__in=[\n",
    "    #\"nicole.vanmaanen@climateanalytics.org\",\n",
    "    \"galm\"\n",
    "])\n",
    "uc = users.count()\n",
    "tag, created = Tag.objects.get_or_create(query=q,title=\"war\")\n",
    "print(tag, created)\n",
    "for i,d in enumerate(Doc.objects.filter(pk__in=random.sample(list(r_docs.values_list('pk',flat=True)),uc*20))):\n",
    "    u = users[i%uc]\n",
    "    d.tag.add(tag)\n",
    "    do, created = DocOwnership.objects.get_or_create(\n",
    "        doc=d,\n",
    "        query=q,\n",
    "        tag=tag,\n",
    "        user=u\n",
    "    ) \n",
    "tag.update_tag()"
   ]
  },
  {
   "cell_type": "markdown",
   "metadata": {},
   "source": [
    "# Infrastructure, communities, land use...\n"
   ]
  },
  {
   "cell_type": "code",
   "execution_count": 12,
   "metadata": {},
   "outputs": [
    {
     "data": {
      "text/plain": [
       "[{'category__name': '66 Health', 'n': 2},\n",
       " {'category__name': '69 Crop yields', 'n': 2},\n",
       " {'category__name': '28 River runoff', 'n': 2},\n",
       " {'category__name': '79 Livestock health', 'n': 1},\n",
       " {'category__name': '80 Livestock management', 'n': 1},\n",
       " {'category__name': '05 Changes in precipitation', 'n': 1},\n",
       " {'category__name': 'Food, fibre, and other ecosystem products', 'n': 1},\n",
       " {'category__name': '59 Wildfires', 'n': 1},\n",
       " {'category__name': '73 Displacement and migration', 'n': 1}]"
      ]
     },
     "execution_count": 12,
     "metadata": {},
     "output_type": "execute_result"
    }
   ],
   "source": [
    "tag, created = Tag.objects.get_or_create(query=q,title=\"Infrastructure, settlements - prediction > 0.2\")\n",
    "tag_dos = tag.docownership_set.values('doc__id')\n",
    "ducs = DocUserCat.objects.filter(doc__id__in=tag_dos,category__level=4).values('category__name').annotate(n=Count('pk'))\n",
    "list(ducs.order_by('-n'))"
   ]
  },
  {
   "cell_type": "code",
   "execution_count": 17,
   "metadata": {},
   "outputs": [
    {
     "name": "stdout",
     "output_type": "stream",
     "text": [
      "2509\n",
      "title__iregex\n",
      "content__iregex\n",
      "7290 486\n",
      "###\n",
      " all query docs\n",
      "\n",
      "Assessing vulnerability to climate change and socioeconomic stressors in the Reef Islands group, Solomon Islands\n",
      "Screening, evaluation, and ranking of oil reservoirs suitable for CO2-flood EOR and carbon dioxide sequestration\n",
      "Gambling over Growth: Economic Uncertainty, Discounting, and Regulatory Policy\n",
      "Growing \"Smart'? Urbanization Processes in the Pune Urban Agglomeration\n",
      "Safe operating space for humanity at a regional scale\n",
      "###\n",
      " p > 0.2\n",
      "\n",
      "\n",
      "Potential increase in floods in California's Sierra Nevada under future climate projections\n",
      "California's mountainous topography, exposure to occasional heavily moisture-laden storm systems, and varied communities and infrastructures in low lying areas make it highly vulnerable to floods. An important question facing the state-in terms of protecting the public and formulating water management responses to climate change-is \"how might future climate changes affect flood characteristics in California?\" To help address this, we simulate floods on the western slopes of the Sierra Nevada Mountains, the state's primary catchment, based on downscaled daily precipitation and temperature projections from three General Circulation Models (GCMs). These climate projections are fed into the Variable Infiltration Capacity (VIC) hydrologic model, and the VIC-simulated streamflows and hydrologic conditions, from historical and from projected climate change runs, allow us to evaluate possible changes in annual maximum 3-day flood magnitudes and frequencies of floods. By the end of the 21st Century, all projections yield larger-than-historical floods, for both the Northern Sierra Nevada (NSN) and for the Southern Sierra Nevada (SSN). The increases in flood magnitude are statistically significant (at p <= 0.01) for all the three GCMs in the period 2051-2099. The frequency of flood events above selected historical thresholds also increases under projections from CNRM CM3 and NCAR PCM1 climate models, while under the third scenario, GFDL CM2.1, frequencies remain constant or decline slightly, owing to an overall drying trend. These increases appear to derive jointly from increases in heavy precipitation amount, storm frequencies, and days with more precipitation falling as rain and less as snow. Increases in antecedent winter soil moisture also play a role in some areas. Thus, a complex, as-yet unpredictable interplay of several different climatic influences threatens to cause increased flood hazards in California's complex western Sierra landscapes.\n",
      "\n",
      "Vulnerability of water resources to climate change scenarios. Impacts on the irrigation districts in the Guayalejo-Tamesi river basin, Tamaulipas, Mexico\n",
      "This paper presents an assessment of the impacts of climate change induced water availability variations on the irrigation districts in the Guayalejo-Tamesi River Basin in Tamaulipas, Mexico. A model was developed using WEAP (Water Evaluation and Planning) to describe the vulnerability of the water resources in the case study river basin, taking into account the effects that climate change can have on water availability in the municipal, industrial, and agricultural sectors. The parameter to assess the extent to which the area is vulnerable to climate change was the Precipitation/Temperature relationship, or Lang Index. The latest version of the climate change program MAGICC/ScenGen was used, considering the MPIECH-5, GFDL2.0, and UKHADCM3 models for the A2 and B2 greenhouse gas emissions scenarios. The results indicate that climate change scenarios have the most negative impact on water availability in the agricultural sector. In addition, an analysis of the results suggests that water concessions, irrigation districts and hydraulic infrastructure in the river basin need to be reconsidered and updated to assure water availability to all its users.\n",
      "\n",
      "Regional effects of climate change on reindeer: a case study of the Muotkatunturi region in Finnish Lapland\n",
      "Few studies have investigated current climate changes for high latitude regions, and the impact of such changes on reindeer and indigenous people. previous work by other authors has identified snow and ice conditions in winter as being critical in determining the availability of forage for reindeer. Deep snow makes it difficult to access food. Lack of food weakens the herd and can reduce the allocation of nutrients to the development of the foetus in the female deer. Climate data for Lapland, northern Finland, and Karasjok, northern Norway, are examined, together with reindeer calf numbers for the period 1977 to 1994 for the Muotkatunturi region (68 degrees N 25 degrees 30'E). Between 1883 and 1993, precipitation increased but temperatures showed no clear warming or cooling trend. However, since the late 1980s, temperatures have increased. A regression analysis on the climate and reindeer data found that the warmer the winter prior to the rut, the fewer the live calves recorded the following year (r = 0.529, p < 0.05). Also, the wetter the winter prior to the rut, the fewer the calves recorded (r = 0.427, p < 0.10). In contrast, the warmer the autumn prior to their birth, the greater the number of calves recorded (r = 0.474, p < 0.10). These results suggest that as climate changes and winters become warmer and wetter with increased snowfall, calf numbers will decline. These findings have important implications for the Saami people who are heavily dependent on the reindeer for their livelihood.\n",
      "\n",
      "Indigenous fire management in the cerrado of Brazil: The case of the Kraho of Tocantins\n",
      "Indigenous peoples have been using fire in the cerrado (savannas) of Brazil as a form of management for thousands of years, yet we have little information on why, when and how these fire practices take place. The aim of this paper was to explore the traditional use of fire as a management tool by the Kraho indigenous group living in the north-eastern region of Tocantins state, Brazil. The results indicate that the Kraho burn for a variety of reasons throughout the dry season, thereby producing a mosaic of burned and unburned patches in the landscape. The paper discusses this burning regime in the context of contemporary issues regarding fire management, and in the face of changing perceptions to fire by the Kraho themselves.\n",
      "\n",
      "Integrated assessment of future water security: the case of Makassar, Indonesia\n",
      "In many urban areas, population growth and changes associated with climate change are likely to increase pressure on water resources. One such location is Makassar City, located in South Sulawesi, Indonesia, which is experiencing rapid growth, urban sprawling and an increase in freshwater demand but faces a possible reduction in water availability due to climate change. A study, as part of the CSIRO-AusAID Research for Development Alliance, combined climate change, hydrological and resource allocation modelling to examine water security and the resilience of planned infrastructure to climate change impacts. Rainfall and potential evapotranspiration from 5 different Global Circulation Models (GCMs) were statistically downscaled using the CSIRO Conformal Cubic Atmospheric Model, CCAM (McGregor and Dix, 2008). The downscaled rainfall and potential evapotranspiration were used in a hydrological model (SIMHYD) to estimate changes in streamflow for the two rivers which supply Makassar City. As shown in Figure 1 (right), although the CCAM projections show a reasonable variation for the projections of streamflow for both the Maros and Jennebarang catchments, all CCAM based projections of future streamflow agree on a reduction compared to historical records. The future predictions of streamflow indicate a reduction of mean annual streamflow in the order of 0-25 %, with reductions in the mean wet season flow of the same order when compared to the period 1980-1999. The reductions in streamflow for the dry season are projected to be between 5-35%. [GRAPHICS] The streamflow projections were combined with population projections, infrastructure development plans and water demand estimates to assess future scenarios of water supply capacity for the city, using the REsource ALlocation Model (REALM) software. Results indicate that under the assumed scenarios sufficient inflow for urban water allocation alone will be available during the wet season. However, during the dry season Makassar is likely to face supply problems not only due to reduction in streamflows, but mainly due to infrastructure constraints, population growth and competing water uses. The analysis suggests that the future water security in Makassar will depend on its ability to plan infrastructure and manage water demand despite of climate change. The information generated in this study has allowed key stakeholders to gain greater insight into the future water resource pressures and to re-assess adaptation options.\n"
     ]
    }
   ],
   "source": [
    "django.db.connection.close()\n",
    "assigned = set(DocOwnership.objects.filter(query__project=project).values_list('doc__id',flat=True))\n",
    "print(len(assigned))\n",
    "\n",
    "s = \"infrastructure, coastal cit*, coastal settlement, indigenous\"\n",
    "inclusion = s.replace(', ','|')\n",
    "se = \"species, bird, mammal, fish, ecosystem, animal\"\n",
    "exclusions = se.replace(', ','|')\n",
    "\n",
    "p = 0.2\n",
    "\n",
    "pds = predicted_ids[predicted_ids['prediction']>p]\n",
    "\n",
    "dids = set([])\n",
    "eids = set([])\n",
    "for f in [\"title__iregex\",\"content__iregex\"]:\n",
    "    print(f)\n",
    "    dids = dids | set(q.doc_set.filter(**{f: inclusion}).values_list('pk',flat=True))\n",
    "    eids = eids | set(q.doc_set.filter(**{f: exclusions}).values_list('pk',flat=True))\n",
    "    \n",
    "doc_ids = dids - eids\n",
    "    \n",
    "docs = Doc.objects.filter(pk__in=doc_ids).exclude(id__in=assigned)\n",
    "\n",
    "#docs = q.doc_set.filter(title__iregex=inclusion).exclude(id__in=assigned).exclude(content__iregex=exclusions)\n",
    "r_docs = Doc.objects.filter(id__in=doc_ids & set(pds['id']))\n",
    "\n",
    "print(docs.count(), r_docs.count())\n",
    "\n",
    "print('###\\n all query docs\\n')\n",
    "\n",
    "for d in Doc.objects.filter(pk__in=random.sample(list(docs.values_list('pk',flat=True)),5)):\n",
    "    print(d.title)\n",
    "    \n",
    "print(f'###\\n p > {p}\\n')\n",
    "\n",
    "for d in Doc.objects.filter(pk__in=random.sample(list(r_docs.values_list('pk',flat=True)),5)):\n",
    "    print()\n",
    "    print(d.title)\n",
    "    print(d.content)\n",
    "    \n"
   ]
  },
  {
   "cell_type": "code",
   "execution_count": 18,
   "metadata": {},
   "outputs": [
    {
     "name": "stdout",
     "output_type": "stream",
     "text": [
      "Infrastructure, settlements 2 - prediction > 0.2 True\n"
     ]
    }
   ],
   "source": [
    "users = User.objects.filter(username__in=[\n",
    "    #\"michael.hegarty@climateanalytics.org\",\n",
    "    \"emily.theokritoff@climateanalytics.org\"\n",
    "])\n",
    "tag, created = Tag.objects.get_or_create(query=q,title=\"Infrastructure, settlements 2 - prediction > 0.2\")\n",
    "print(tag, created)\n",
    "for i,d in enumerate(Doc.objects.filter(pk__in=random.sample(list(r_docs.values_list('pk',flat=True)),40))):\n",
    "    u = users[0]\n",
    "    d.tag.add(tag)\n",
    "    do, created = DocOwnership.objects.get_or_create(\n",
    "        doc=d,\n",
    "        query=q,\n",
    "        tag=tag,\n",
    "        user=u\n",
    "    ) \n",
    "tag.update_tag()"
   ]
  },
  {
   "cell_type": "code",
   "execution_count": 88,
   "metadata": {},
   "outputs": [
    {
     "name": "stdout",
     "output_type": "stream",
     "text": [
      "2214\n",
      "title__iregex\n",
      "content__iregex\n",
      "9038 1352\n",
      "###\n",
      " all query docs\n",
      "\n",
      "Did irrigation impact 20th century air temperature in the High Plains aquifer region?\n",
      "Evaluating adaptation and the production development of Finnish agriculture in climate and global change\n",
      "Climate change impact, mitigation and adaptation strategies for agricultural and water resources, in Ganga Plain (India)\n",
      "Accuracy assessment of land cover/land use classifiers in dry and humid areas of Iran\n",
      "Returns on investment in watershed conservation: Application of a best practices analytical framework to the Rio Camboriu Water Producer program, Santa Catarina, Brazil\n",
      "###\n",
      " p > 0.2\n",
      "\n",
      "\n",
      "Scenario-Based Impact Assessment of Land Use/Cover and Climate Changes on Watershed Hydrology in Heihe River Basin of Northwest China\n",
      "This study evaluated hydrological impacts of potential climate and land use changes in Heihe River Basin of Northwest China. The future climate data for the simulation with Soil and Water Assessment Tool (SWAT) were prepared using a dynamical downscaling method. The future land uses were simulated with the Dynamic Land Use System(DLS) model by establishing Multinomial Logistic Regression (MNL) model for six land use types. In 2006-2030, land uses in the basin will experience a significant change with a prominent increase in urban areas, a moderate increase in grassland, and a great decrease in unused land. Besides, the simulation results showed that in comparison to those during 1981-2005 the temperature and precipitation during 2006-2030 will change by +0.8 degrees C and +10.8%, respectively. The land use change and climate change will jointly make the water yield change by +8.5%, while they will separately make the water yield change by -1.8% and +9.8%, respectively. The predicted large increase in future precipitation and the corresponding decrease in unused land will have substantial impacts on the watershed hydrology, especially on the surface runoff and streamflow. Therefore, to mitigate negative hydrological impacts and utilize positive impacts, both land use and climate changes should be considered in water resource planning for the Heihe River Basin.\n",
      "\n",
      "Estimation of the effects of climate change on flood-triggered economic losses in Japan\n",
      "This study evaluates the effects of climate change on economic losses due to flood-related damage in Japan. Three selected GCM climate data were downscaled using an analytical method that uses observed precipitation data as the reference resolution. The downscaled climate data were used to estimate extreme rainfall for different return periods. The extreme rainfall estimates were then entered into a two-dimensional (2D) non-uniform flow model to estimate flood inundation information. A technique based on the land use type of the flood area was employed to estimate economic losses due to flood damages. The results of the rainfall analysis show that at present (in 2000), the Nankai region, and the area from Wakayama Prefecture to Kagoshima Prefecture and the mountains of the Japan Alps receive wry high extreme rainfall. By 2050, in addition to these areas, the rainfall in the Tokai and Koshinetsu regions will be 1.2 to 1.3 times greater than at present. The overall variations show that the potential economic loss is greater for the SRES-B1, A2 and A1B scenarios for all return periods. These results clearly show that flood-related economic losses in japan will increase significantly in the future as a result of climate change. It indicates that japan needs to increase the capital investment to implement flood control and mitigation measures in the future. As this study presents comprehensive results in very fine resolution (1 km x 1 km), the outcome of this study is more important for regional scale decision making processes will be useful to the public, economists, and policy and decision makers in planning and designing flood control measures. (C) 2014 Elsevier Ltd. All rights reserved.\n",
      "\n",
      "Climate change, vector-borne diseases and working population\n",
      "Introduction. Risks associated with climate change are increasing worldwide and the global effects include altered weather and precipitation patterns, rising temperatures and others; human health can be affected directly and indirectly. This paper is an overview of literature regarding climate changes, their interaction with vector-borne diseases and impact on working population. Materials and methods. Articles regarding climate changes as drivers of vector-borne diseases and evidences of occupational cases have been picked up by public databank. Technical documents were also included in the study. Results. Evidences regarding the impact of climate changes on vector-borne diseases in Europe, provided by the analysis of the literature, are presented. Discussion. Climate-sensitive vector-borne diseases are likely to be emerging due to climate modifications, with impacts on public and occupational health. However, other environmental and anthropogenic drivers such as increasing travelling and trade, deforestation and reforestation, altered land use and urbanization can influence their spread. Further studies are necessary to better understand the phenomenon and implementation of adaptation strategies to protect human health should be accelerated and strengthened.\n",
      "\n",
      "Impact of Land-Use and Land-Cover Change on Meteorology in the Beijing-Tianjin-Hebei Region from 1990 to 2010\n",
      "Land use and land cover (LULC) in the Beijing-Tianjin-Hebei region has changed significantly since 1990. To comprehensively understand its impact on meteorology, this paper uses an LULC transfer matrix to discuss changes 10 years before the millennium (BM) and 10 years after the millennium (AM). The Weather Research and Forecasting (WRF) model is used to simulate air temperature, precipitation, and wind speed in January and July using 1990, 2000, and 2010 LULC data. The temperature increase in the AM period (0.118 degrees C) was greater than that in the BM period (0.042 degrees C) and increased by 0.36 degrees C in response to the transformation from croplands to urban and built-up lands (UBL). The change in precipitation showed an obvious seasonal difference, where the trend decreased in winter and increased in summer. There was a small band of precipitation change that extended from Beijing to Shijiazhuang. The wind speed at 10 m decreased by 0.04 m/s in winter and 0.017 m/s in summer. Simultaneously, the impact on meteorology from different classification transformations was quantified. The region where land was transformed into UBL had the largest reduction in wind speed, and was later transformed into woodlands. A comprehensive discussion on the impact of LULC changes on climate should support the future development of more environmentally compatible and sustainable land planning.\n",
      "\n",
      "Impact of observed vegetation root distribution on seasonal global simulations of land surface processes\n",
      "[1] Using a global root distribution derived from observations, results from June to August ensemble simulations are presented. The new root distribution shifts the location of roots in the soil in most regions of the world. Root relocation depends on land use type with some roots located shallower (e. g., grasslands) and others deeper (e. g., tropical forests). Comparison of the boreal summer results of 1988 and 1993 for a control simulation and simulation with the new root distribution produces, in several regions of the world, statistically significant differences of up to 40 W/m(2) in the components of the surface energy budget. Analysis of the eastern and western United States shows statistically significant changes of over 1 K in surface air temperature and over 25 W/m(2) in surface energy components for both seasonal averages and diurnal cycles. Comparison with observations shows that the new root distribution improves the surface air temperature simulation, especially in 1993, but any precipitation improvement is statistically insignificant.\n"
     ]
    }
   ],
   "source": [
    "\n",
    "\n",
    "django.db.connection.close()\n",
    "assigned = set(DocOwnership.objects.filter(query__project=project).values_list('doc__id',flat=True))\n",
    "print(len(assigned))\n",
    "\n",
    "s = \"land use, land management\" \n",
    "inclusion = s.replace(', ','|')\n",
    "se = \"species, bird, mammal, fish, ecosystem\"\n",
    "exclusions = se.replace(', ','|')\n",
    "\n",
    "p = 0.2\n",
    "\n",
    "pds = predicted_ids[predicted_ids['prediction']>p]\n",
    "\n",
    "dids = set([])\n",
    "eids = set([])\n",
    "for f in [\"title__iregex\",\"content__iregex\"]:\n",
    "    print(f)\n",
    "    dids = dids | set(q.doc_set.filter(**{f: inclusion}).values_list('pk',flat=True))\n",
    "    eids = eids | set(q.doc_set.filter(**{f: exclusions}).values_list('pk',flat=True))\n",
    "    \n",
    "doc_ids = dids - eids\n",
    "    \n",
    "docs = Doc.objects.filter(pk__in=doc_ids).exclude(id__in=assigned)\n",
    "\n",
    "#docs = q.doc_set.filter(title__iregex=inclusion).exclude(id__in=assigned).exclude(content__iregex=exclusions)\n",
    "r_docs = Doc.objects.filter(id__in=doc_ids & set(pds['id']))\n",
    "\n",
    "print(docs.count(), r_docs.count())\n",
    "\n",
    "print('###\\n all query docs\\n')\n",
    "\n",
    "for d in Doc.objects.filter(pk__in=random.sample(list(docs.values_list('pk',flat=True)),5)):\n",
    "    print(d.title)\n",
    "    \n",
    "print(f'###\\n p > {p}\\n')\n",
    "\n",
    "for d in Doc.objects.filter(pk__in=random.sample(list(r_docs.values_list('pk',flat=True)),5)):\n",
    "    print()\n",
    "    print(d.title)\n",
    "    print(d.content)\n",
    "    \n"
   ]
  },
  {
   "cell_type": "code",
   "execution_count": 89,
   "metadata": {},
   "outputs": [
    {
     "name": "stdout",
     "output_type": "stream",
     "text": [
      "Land use - prediction>0.2 True\n"
     ]
    }
   ],
   "source": [
    "users = User.objects.filter(username__in=[\n",
    "    \"michael.hegarty@climateanalytics.org\",\n",
    "    \"emily.theokritoff@climateanalytics.org\"\n",
    "])\n",
    "tag, created = Tag.objects.get_or_create(query=q,title=\"Land use - prediction>0.2\")\n",
    "print(tag, created)\n",
    "for i,d in enumerate(Doc.objects.filter(pk__in=random.sample(list(r_docs.values_list('pk',flat=True)),40))):\n",
    "    u = users[i%2]\n",
    "    d.tag.add(tag)\n",
    "    do, created = DocOwnership.objects.get_or_create(\n",
    "        doc=d,\n",
    "        query=q,\n",
    "        tag=tag,\n",
    "        user=u\n",
    "    ) \n",
    "tag.update_tag()"
   ]
  },
  {
   "cell_type": "markdown",
   "metadata": {},
   "source": [
    "# Teleconnections, extremes"
   ]
  },
  {
   "cell_type": "code",
   "execution_count": 75,
   "metadata": {},
   "outputs": [
    {
     "name": "stdout",
     "output_type": "stream",
     "text": [
      "2753\n",
      "title__iregex\n",
      "content__iregex\n",
      "1726 368\n",
      "###\n",
      " all query docs\n",
      "\n",
      "Heat-induced mortality and expression of heat shock proteins in Colorado potato beetles treated with imidacloprid\n",
      "GREEN INFRASTRUCTURE CONTRIBUTION FOR CLIMATE CHANGE ADAPTATION IN URBAN LANDSCAPE CONTEXT\n",
      "Detection of infectious bursal disease virus from formalin-fixed paraffin-embedded tissue by immunohistochemistry and real-time reverse transcription-polymerase chain reaction\n",
      "Tolerance to environmental stress by the nitrogen-fixing actinobacterium Frankia and its role in actinorhizal plants adaptation\n",
      "Impact of Extreme Heat on Corn Yield in Main Summer Corn Cultivating Area of China at Present and Under Future Climate Change\n",
      "###\n",
      " p > 0.4\n",
      "\n",
      "\n",
      "Changes in extreme temperatures of Australasian summer simulated by CCAM under global warming, and the roles of winds and land-sea contrasts\n",
      "\n",
      "Changes in daily maximum temperature extremes across India over 1951-2014 and their relation with cereal crop productivity\n",
      "\n",
      "Trend and Abrupt Regime Shift of Temperature Extreme in Northeast China, 1957-2015\n",
      "\n",
      "Modification Effects of Temperature on the Ozone-Mortality Relationship: A Nationwide Multicounty Study in China\n",
      "\n",
      "Projected changes in extreme warm and cold temperatures in China from 1.5 to 5 degrees C global warming\n"
     ]
    }
   ],
   "source": [
    "\n",
    "\n",
    "django.db.connection.close()\n",
    "assigned = set(DocOwnership.objects.filter(query__project=project).values_list('doc__id',flat=True))\n",
    "print(len(assigned))\n",
    "\n",
    "s = \"temperature extreme, extreme temperature\" \n",
    "inclusion = s.replace(', ','|')\n",
    "se = \"oscillation, sea surface temperature, SST, radiation\"\n",
    "exclusions = se.replace(', ','|')\n",
    "\n",
    "p = 0.4\n",
    "\n",
    "pds = predicted_ids[predicted_ids['prediction']>p]\n",
    "\n",
    "dids = set([])\n",
    "eids = set([])\n",
    "for f in [\"title__iregex\",\"content__iregex\"]:\n",
    "    print(f)\n",
    "    dids = dids | set(q.doc_set.filter(**{f: inclusion}).values_list('pk',flat=True))\n",
    "    eids = eids | set(q.doc_set.filter(**{f: exclusions}).values_list('pk',flat=True))\n",
    "    \n",
    "doc_ids = dids - eids\n",
    "    \n",
    "docs = Doc.objects.filter(pk__in=doc_ids).exclude(id__in=assigned)\n",
    "\n",
    "#docs = q.doc_set.filter(title__iregex=inclusion).exclude(id__in=assigned).exclude(content__iregex=exclusions)\n",
    "r_docs = Doc.objects.filter(id__in=doc_ids & set(pds['id']))\n",
    "\n",
    "print(docs.count(), r_docs.count())\n",
    "\n",
    "print('###\\n all query docs\\n')\n",
    "\n",
    "for d in Doc.objects.filter(pk__in=random.sample(list(docs.values_list('pk',flat=True)),5)):\n",
    "    print(d.title)\n",
    "    \n",
    "print(f'###\\n p > {p}\\n')\n",
    "\n",
    "for d in Doc.objects.filter(pk__in=random.sample(list(r_docs.values_list('pk',flat=True)),5)):\n",
    "    print()\n",
    "    print(d.title)\n",
    "    \n"
   ]
  },
  {
   "cell_type": "code",
   "execution_count": 76,
   "metadata": {},
   "outputs": [
    {
     "name": "stdout",
     "output_type": "stream",
     "text": [
      "temperature extremes - prediction>0.2 True\n"
     ]
    }
   ],
   "source": [
    "users = User.objects.filter(username__in=[\n",
    "    \"kaylin.lee@climateanalytics.org\"\n",
    "])\n",
    "tag, created = Tag.objects.get_or_create(query=q,title=\"temperature extremes - prediction>0.2\")\n",
    "print(tag, created)\n",
    "for i,d in enumerate(Doc.objects.filter(pk__in=random.sample(list(r_docs.values_list('pk',flat=True)),40))):\n",
    "    u = users[0]\n",
    "    d.tag.add(tag)\n",
    "    do, created = DocOwnership.objects.get_or_create(\n",
    "        doc=d,\n",
    "        query=q,\n",
    "        tag=tag,\n",
    "        user=u\n",
    "    ) \n",
    "tag.update_tag()"
   ]
  },
  {
   "cell_type": "code",
   "execution_count": 71,
   "metadata": {},
   "outputs": [
    {
     "data": {
      "text/plain": [
       "(11, {'scoping.DocOwnership': 11})"
      ]
     },
     "execution_count": 71,
     "metadata": {},
     "output_type": "execute_result"
    }
   ],
   "source": []
  },
  {
   "cell_type": "code",
   "execution_count": 77,
   "metadata": {},
   "outputs": [
    {
     "name": "stdout",
     "output_type": "stream",
     "text": [
      "2785\n",
      "title__iregex\n",
      "content__iregex\n",
      "15737 1429\n",
      "###\n",
      " all query docs\n",
      "\n",
      "Interactions between the Atlantic Multidecadal Oscillation, El Nino/La Nina, and the PNA in winter Mississippi valley stream flow\n",
      "Phylogeography and genetic structure of the red-legged partridge (Alectoris rufa): more evidence for refugia within the Iberian glacial refugium\n",
      "Effects of precipitation and potential evaporation on actual evapotranspiration over the Laohahe basin, northern China\n",
      "Interannual variability of nearbed sediment flux on the Eel River shelf, northern California\n",
      "Quantification and Exploration of Diurnal Oscillations in Tropical Cyclones\n",
      "###\n",
      " p > 0.4\n",
      "\n",
      "\n",
      "Twentieth-century decline in streamflows from the hydrographic apex of North America\n",
      "\n",
      "How ENSO affects maize yields in China: understanding the impact mechanisms using a process-based crop model\n",
      "\n",
      "Using hierarchical models to estimate effects of ocean anomalies on north-west Pacific Chinook salmon Oncorhynchus tshawytscha recruitment\n",
      "\n",
      "Detailed assessment of climate variability in the Baltic Sea area for the period 1958 to 2009\n",
      "\n",
      "TRENDS IN AVERAGE SNOW DEPTH ACROSS THE WESTERN UNITED STATES\n"
     ]
    }
   ],
   "source": [
    "\n",
    "\n",
    "django.db.connection.close()\n",
    "assigned = set(DocOwnership.objects.filter(query__project=project).values_list('doc__id',flat=True))\n",
    "print(len(assigned))\n",
    "\n",
    "s = \"teleconnection, oscillation\" \n",
    "inclusion = s.replace(', ','|')\n",
    "se = \"asfasdfasdf\"\n",
    "exclusions = se.replace(', ','|')\n",
    "\n",
    "p = 0.4\n",
    "\n",
    "pds = predicted_ids[predicted_ids['prediction']>p]\n",
    "\n",
    "dids = set([])\n",
    "eids = set([])\n",
    "for f in [\"title__iregex\",\"content__iregex\"]:\n",
    "    print(f)\n",
    "    dids = dids | set(q.doc_set.filter(**{f: inclusion}).values_list('pk',flat=True))\n",
    "    eids = eids | set(q.doc_set.filter(**{f: exclusions}).values_list('pk',flat=True))\n",
    "    \n",
    "doc_ids = dids - eids\n",
    "    \n",
    "docs = Doc.objects.filter(pk__in=doc_ids).exclude(id__in=assigned)\n",
    "\n",
    "#docs = q.doc_set.filter(title__iregex=inclusion).exclude(id__in=assigned).exclude(content__iregex=exclusions)\n",
    "r_docs = Doc.objects.filter(id__in=doc_ids & set(pds['id']))\n",
    "\n",
    "print(docs.count(), r_docs.count())\n",
    "\n",
    "print('###\\n all query docs\\n')\n",
    "\n",
    "for d in Doc.objects.filter(pk__in=random.sample(list(docs.values_list('pk',flat=True)),5)):\n",
    "    print(d.title)\n",
    "    \n",
    "print(f'###\\n p > {p}\\n')\n",
    "\n",
    "for d in Doc.objects.filter(pk__in=random.sample(list(r_docs.values_list('pk',flat=True)),5)):\n",
    "    print()\n",
    "    print(d.title)\n",
    "    \n"
   ]
  },
  {
   "cell_type": "code",
   "execution_count": 78,
   "metadata": {},
   "outputs": [
    {
     "name": "stdout",
     "output_type": "stream",
     "text": [
      "oscillations, teleconnections - prediction>0.2 2 True\n"
     ]
    }
   ],
   "source": [
    "users = User.objects.filter(username__in=[\n",
    "    \"shruti.nath@climateanalytics.org\"\n",
    "])\n",
    "tag, created = Tag.objects.get_or_create(query=q,title=\"oscillations, teleconnections - prediction>0.2 2\")\n",
    "print(tag, created)\n",
    "tag.docownership_set.filter(relevant=0).delete()\n",
    "tag.doc_set.clear()\n",
    "for i,d in enumerate(Doc.objects.filter(pk__in=random.sample(list(r_docs.values_list('pk',flat=True)),40))):\n",
    "    u = users[0]\n",
    "    d.tag.add(tag)\n",
    "    do, created = DocOwnership.objects.get_or_create(\n",
    "        doc=d,\n",
    "        query=q,\n",
    "        tag=tag,\n",
    "        user=u\n",
    "    ) \n",
    "tag.update_tag()"
   ]
  },
  {
   "cell_type": "markdown",
   "metadata": {},
   "source": [
    "# Wind"
   ]
  },
  {
   "cell_type": "code",
   "execution_count": 80,
   "metadata": {},
   "outputs": [
    {
     "name": "stdout",
     "output_type": "stream",
     "text": [
      "[{'relevant': 2, 'n': 14}, {'relevant': 0, 'n': 14}, {'relevant': 1, 'n': 12}]\n"
     ]
    },
    {
     "data": {
      "text/plain": [
       "[{'category__name': '02 Air or land surface temperature changes', 'n': 3},\n",
       " {'category__name': '25 Evapotranspiration', 'n': 3},\n",
       " {'category__name': '06 Humidity', 'n': 2},\n",
       " {'category__name': '52 Shifts in phenology (Terrestrial and freshwater)',\n",
       "  'n': 2},\n",
       " {'category__name': '05 Changes in precipitation', 'n': 2},\n",
       " {'category__name': '09 Atmospheric/marine circulation or teleconnections',\n",
       "  'n': 1},\n",
       " {'category__name': '26 Drought frequency and intensity', 'n': 1},\n",
       " {'category__name': '28 River runoff', 'n': 1},\n",
       " {'category__name': '08 Changes in strong precipitation', 'n': 1}]"
      ]
     },
     "execution_count": 80,
     "metadata": {},
     "output_type": "execute_result"
    }
   ],
   "source": [
    "tag = Tag.objects.get(query=q,title=\"wind speed, ET - prediction>0.2\")\n",
    "tag_dos = tag.docownership_set.values('doc__id')\n",
    "tag_dors = tag.docownership_set.values('relevant').annotate(n=Count('pk'))\n",
    "print(list(tag_dors.order_by('-n')))\n",
    "ducs = DocUserCat.objects.filter(doc__id__in=tag_dos,category__level=4).values('category__name').annotate(n=Count('pk'))\n",
    "list(ducs.order_by('-n'))"
   ]
  },
  {
   "cell_type": "code",
   "execution_count": 50,
   "metadata": {},
   "outputs": [
    {
     "name": "stdout",
     "output_type": "stream",
     "text": [
      "2931\n",
      "title__iregex\n",
      "content__iregex\n",
      "36727 2457\n",
      "###\n",
      " all query docs\n",
      "\n",
      "Characterization of an island aquifer from tidal response\n",
      "Thinking globally, acting locally - institutionalizing climate change at the local government level in Durban, South Africa\n",
      "Impacts of Natural Disasters on Swedish Electric Power Policy: A Case Study\n",
      "THE CORRUBEDO BEACH LAGOON COMPLEX, GALICIA, SPAIN - DYNAMICS, SEDIMENTS AND RECENT EVOLUTION OF A MESOTIDAL COASTAL EMBAYMENT\n",
      "Novel Metrics for Evaluation of Ensemble Forecasts of Tropical Cyclone Structure\n",
      "###\n",
      " p > 0.3\n",
      "\n",
      "\n",
      "On climatic fluctuations and environmental changes of the Indo-Gangetic Plains, India\n",
      "\n",
      "Detection of trends in annual extreme rainfall\n",
      "\n",
      "Temporal fluctuations in weather and climate extremes that cause economic and human health impacts: A review\n",
      "\n",
      "The tropical ocean response to a change in solar forcing\n",
      "\n",
      "PROVISIONALLY CORRECTED SURFACE WIND DATA, WORLDWIDE OCEAN ATMOSPHERE SURFACE FIELDS, AND SAHELIAN RAINFALL VARIABILITY\n"
     ]
    }
   ],
   "source": [
    "django.db.connection.close()\n",
    "assigned = set(DocOwnership.objects.filter(query__project=project).values_list('doc__id',flat=True))\n",
    "print(len(assigned))\n",
    "\n",
    "s = \"wind speed, evapotranspiration, changes in precipitation, changes in strong precipitation, extreme temperature, soil moisture, humidity\" \n",
    "s = \"wind, storm, cyclone\" \n",
    "inclusion = s.replace(', ','|')\n",
    "se = \"species, rivers, plants, lakes\"\n",
    "exclusions = se.replace(', ','|')\n",
    "\n",
    "p = 0.3\n",
    "\n",
    "pds = predicted_ids[predicted_ids['prediction']>p]\n",
    "\n",
    "dids = set([])\n",
    "eids = set([])\n",
    "for f in [\"title__iregex\",\"content__iregex\"]:\n",
    "    print(f)\n",
    "    dids = dids | set(q.doc_set.filter(**{f: inclusion}).values_list('pk',flat=True))\n",
    "    eids = eids | set(q.doc_set.filter(**{f: exclusions}).values_list('pk',flat=True))\n",
    "    \n",
    "doc_ids = dids - eids\n",
    "    \n",
    "docs = Doc.objects.filter(pk__in=doc_ids).exclude(id__in=assigned)\n",
    "\n",
    "#docs = q.doc_set.filter(title__iregex=inclusion).exclude(id__in=assigned).exclude(content__iregex=exclusions)\n",
    "r_docs = Doc.objects.filter(id__in=doc_ids & set(pds['id']))\n",
    "\n",
    "print(docs.count(), r_docs.count())\n",
    "\n",
    "print('###\\n all query docs\\n')\n",
    "\n",
    "for d in Doc.objects.filter(pk__in=random.sample(list(docs.values_list('pk',flat=True)),5)):\n",
    "    print(d.title)\n",
    "    \n",
    "print(f'###\\n p > {p}\\n')\n",
    "\n",
    "for d in Doc.objects.filter(pk__in=random.sample(list(r_docs.values_list('pk',flat=True)),5)):\n",
    "    print()\n",
    "    print(d.title)\n",
    "    \n"
   ]
  },
  {
   "cell_type": "code",
   "execution_count": 51,
   "metadata": {},
   "outputs": [
    {
     "name": "stdout",
     "output_type": "stream",
     "text": [
      "wind speed, ET - prediction>0.2 False\n"
     ]
    }
   ],
   "source": [
    "users = User.objects.filter(username__in=[\n",
    "    \"peter.pfleiderer@climateanalytics.org\"\n",
    "])\n",
    "tag, created = Tag.objects.get_or_create(query=q,title=\"wind speed, ET - prediction>0.2\")\n",
    "print(tag, created)\n",
    "for i,d in enumerate(Doc.objects.filter(pk__in=random.sample(list(r_docs.values_list('pk',flat=True)),40))):\n",
    "    u = users[0]\n",
    "    d.tag.add(tag)\n",
    "    do, created = DocOwnership.objects.get_or_create(\n",
    "        doc=d,\n",
    "        query=q,\n",
    "        tag=tag,\n",
    "        user=u\n",
    "    ) \n",
    "tag.update_tag()"
   ]
  },
  {
   "cell_type": "code",
   "execution_count": null,
   "metadata": {},
   "outputs": [],
   "source": []
  }
 ],
 "metadata": {
  "kernelspec": {
   "display_name": "tmv",
   "language": "python",
   "name": "tmv"
  },
  "language_info": {
   "codemirror_mode": {
    "name": "ipython",
    "version": 3
   },
   "file_extension": ".py",
   "mimetype": "text/x-python",
   "name": "python",
   "nbconvert_exporter": "python",
   "pygments_lexer": "ipython3",
   "version": "3.6.6"
  }
 },
 "nbformat": 4,
 "nbformat_minor": 4
}
